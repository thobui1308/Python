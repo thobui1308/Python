{
 "cells": [
  {
   "cell_type": "markdown",
   "id": "c56bd288",
   "metadata": {
    "papermill": {
     "duration": 0.010185,
     "end_time": "2024-01-11T10:17:07.742766",
     "exception": false,
     "start_time": "2024-01-11T10:17:07.732581",
     "status": "completed"
    },
    "tags": []
   },
   "source": [
    "**This notebook is an exercise in the [Python](https://www.kaggle.com/learn/python) course.  You can reference the tutorial at [this link](https://www.kaggle.com/colinmorris/booleans-and-conditionals).**\n",
    "\n",
    "---\n"
   ]
  },
  {
   "cell_type": "markdown",
   "id": "dffdf2df",
   "metadata": {
    "papermill": {
     "duration": 0.008474,
     "end_time": "2024-01-11T10:17:07.761128",
     "exception": false,
     "start_time": "2024-01-11T10:17:07.752654",
     "status": "completed"
    },
    "tags": []
   },
   "source": [
    "In this exercise, you'll put to work what you have learned about booleans and conditionals.\n",
    "\n",
    "To get started, **run the setup code below** before writing your own code (and if you leave this notebook and come back later, don't forget to run the setup code again)."
   ]
  },
  {
   "cell_type": "code",
   "execution_count": 1,
   "id": "701c7fdb",
   "metadata": {
    "execution": {
     "iopub.execute_input": "2024-01-11T10:17:07.781938Z",
     "iopub.status.busy": "2024-01-11T10:17:07.781040Z",
     "iopub.status.idle": "2024-01-11T10:17:08.224814Z",
     "shell.execute_reply": "2024-01-11T10:17:08.223704Z"
    },
    "papermill": {
     "duration": 0.45729,
     "end_time": "2024-01-11T10:17:08.227483",
     "exception": false,
     "start_time": "2024-01-11T10:17:07.770193",
     "status": "completed"
    },
    "tags": []
   },
   "outputs": [
    {
     "name": "stdout",
     "output_type": "stream",
     "text": [
      "Setup complete.\n"
     ]
    }
   ],
   "source": [
    "from learntools.core import binder; binder.bind(globals())\n",
    "from learntools.python.ex3 import *\n",
    "print('Setup complete.')"
   ]
  },
  {
   "cell_type": "markdown",
   "id": "4b35e0f4",
   "metadata": {
    "papermill": {
     "duration": 0.008518,
     "end_time": "2024-01-11T10:17:08.245332",
     "exception": false,
     "start_time": "2024-01-11T10:17:08.236814",
     "status": "completed"
    },
    "tags": []
   },
   "source": [
    "# 1.\n",
    "\n",
    "Many programming languages have [`sign`](https://en.wikipedia.org/wiki/Sign_function) available as a built-in function. Python doesn't, but we can define our own!\n",
    "\n",
    "In the cell below, define a function called `sign` which takes a numerical argument and returns -1 if it's negative, 1 if it's positive, and 0 if it's 0."
   ]
  },
  {
   "cell_type": "code",
   "execution_count": 2,
   "id": "cea9b8d9",
   "metadata": {
    "execution": {
     "iopub.execute_input": "2024-01-11T10:17:08.265115Z",
     "iopub.status.busy": "2024-01-11T10:17:08.264350Z",
     "iopub.status.idle": "2024-01-11T10:17:08.274686Z",
     "shell.execute_reply": "2024-01-11T10:17:08.273859Z"
    },
    "papermill": {
     "duration": 0.022718,
     "end_time": "2024-01-11T10:17:08.276761",
     "exception": false,
     "start_time": "2024-01-11T10:17:08.254043",
     "status": "completed"
    },
    "tags": []
   },
   "outputs": [
    {
     "data": {
      "application/javascript": [
       "parent.postMessage({\"jupyterEvent\": \"custom.exercise_interaction\", \"data\": {\"outcomeType\": 1, \"valueTowardsCompletion\": 0.2, \"interactionType\": 1, \"questionType\": 2, \"questionId\": \"1_SignFunctionProblem\", \"learnToolsVersion\": \"0.3.4\", \"failureMessage\": \"\", \"exceptionClass\": \"\", \"trace\": \"\"}}, \"*\")"
      ],
      "text/plain": [
       "<IPython.core.display.Javascript object>"
      ]
     },
     "metadata": {},
     "output_type": "display_data"
    },
    {
     "data": {
      "text/markdown": [
       "<span style=\"color:#33cc33\">Correct</span>"
      ],
      "text/plain": [
       "Correct"
      ]
     },
     "metadata": {},
     "output_type": "display_data"
    }
   ],
   "source": [
    "# Your code goes here. Define a function called 'sign'\n",
    "def sign(num):\n",
    "    if num > 0:\n",
    "        return 1\n",
    "    elif num <0:\n",
    "        return -1\n",
    "    else:\n",
    "        return 0\n",
    "sign(-10)\n",
    "# Check your answer\n",
    "q1.check()"
   ]
  },
  {
   "cell_type": "code",
   "execution_count": 3,
   "id": "fafdddcf",
   "metadata": {
    "execution": {
     "iopub.execute_input": "2024-01-11T10:17:08.297163Z",
     "iopub.status.busy": "2024-01-11T10:17:08.296519Z",
     "iopub.status.idle": "2024-01-11T10:17:08.300404Z",
     "shell.execute_reply": "2024-01-11T10:17:08.299526Z"
    },
    "papermill": {
     "duration": 0.016643,
     "end_time": "2024-01-11T10:17:08.302463",
     "exception": false,
     "start_time": "2024-01-11T10:17:08.285820",
     "status": "completed"
    },
    "tags": []
   },
   "outputs": [],
   "source": [
    "#q1.solution()"
   ]
  },
  {
   "cell_type": "markdown",
   "id": "d29f4a9a",
   "metadata": {
    "papermill": {
     "duration": 0.008914,
     "end_time": "2024-01-11T10:17:08.321098",
     "exception": false,
     "start_time": "2024-01-11T10:17:08.312184",
     "status": "completed"
    },
    "tags": []
   },
   "source": [
    "# 2.\n",
    "\n",
    "We've decided to add \"logging\" to our `to_smash` function from the previous exercise."
   ]
  },
  {
   "cell_type": "code",
   "execution_count": 4,
   "id": "6b8f277d",
   "metadata": {
    "execution": {
     "iopub.execute_input": "2024-01-11T10:17:08.342163Z",
     "iopub.status.busy": "2024-01-11T10:17:08.341510Z",
     "iopub.status.idle": "2024-01-11T10:17:08.348908Z",
     "shell.execute_reply": "2024-01-11T10:17:08.347953Z"
    },
    "papermill": {
     "duration": 0.02053,
     "end_time": "2024-01-11T10:17:08.351035",
     "exception": false,
     "start_time": "2024-01-11T10:17:08.330505",
     "status": "completed"
    },
    "tags": []
   },
   "outputs": [
    {
     "name": "stdout",
     "output_type": "stream",
     "text": [
      "Splitting 91 candies\n"
     ]
    },
    {
     "data": {
      "text/plain": [
       "1"
      ]
     },
     "execution_count": 4,
     "metadata": {},
     "output_type": "execute_result"
    }
   ],
   "source": [
    "def to_smash(total_candies):\n",
    "    \"\"\"Return the number of leftover candies that must be smashed after distributing\n",
    "    the given number of candies evenly between 3 friends.\n",
    "    \n",
    "    >>> to_smash(91)\n",
    "    1\n",
    "    \"\"\"\n",
    "    print(\"Splitting\", total_candies, \"candies\")\n",
    "    return total_candies % 3\n",
    "\n",
    "to_smash(91)"
   ]
  },
  {
   "cell_type": "markdown",
   "id": "cacd527b",
   "metadata": {
    "papermill": {
     "duration": 0.008871,
     "end_time": "2024-01-11T10:17:08.369705",
     "exception": false,
     "start_time": "2024-01-11T10:17:08.360834",
     "status": "completed"
    },
    "tags": []
   },
   "source": [
    "What happens if we call it with `total_candies = 1`?"
   ]
  },
  {
   "cell_type": "markdown",
   "id": "343293fc",
   "metadata": {
    "papermill": {
     "duration": 0.008847,
     "end_time": "2024-01-11T10:17:08.387800",
     "exception": false,
     "start_time": "2024-01-11T10:17:08.378953",
     "status": "completed"
    },
    "tags": []
   },
   "source": [
    "That isn't great grammar!\n",
    "\n",
    "Modify the definition in the cell below to correct the grammar of our print statement. (If there's only one candy, we should use the singular \"candy\" instead of the plural \"candies\")"
   ]
  },
  {
   "cell_type": "code",
   "execution_count": 5,
   "id": "94b3bcc5",
   "metadata": {
    "execution": {
     "iopub.execute_input": "2024-01-11T10:17:08.408042Z",
     "iopub.status.busy": "2024-01-11T10:17:08.407458Z",
     "iopub.status.idle": "2024-01-11T10:17:08.414825Z",
     "shell.execute_reply": "2024-01-11T10:17:08.413446Z"
    },
    "papermill": {
     "duration": 0.020031,
     "end_time": "2024-01-11T10:17:08.416962",
     "exception": false,
     "start_time": "2024-01-11T10:17:08.396931",
     "status": "completed"
    },
    "tags": []
   },
   "outputs": [
    {
     "name": "stdout",
     "output_type": "stream",
     "text": [
      "Splitting 1 candies\n"
     ]
    },
    {
     "data": {
      "text/plain": [
       "1"
      ]
     },
     "execution_count": 5,
     "metadata": {},
     "output_type": "execute_result"
    }
   ],
   "source": [
    "to_smash(1)"
   ]
  },
  {
   "cell_type": "code",
   "execution_count": 6,
   "id": "19af05ef",
   "metadata": {
    "execution": {
     "iopub.execute_input": "2024-01-11T10:17:08.438457Z",
     "iopub.status.busy": "2024-01-11T10:17:08.437593Z",
     "iopub.status.idle": "2024-01-11T10:17:08.445936Z",
     "shell.execute_reply": "2024-01-11T10:17:08.444849Z"
    },
    "papermill": {
     "duration": 0.02201,
     "end_time": "2024-01-11T10:17:08.448836",
     "exception": false,
     "start_time": "2024-01-11T10:17:08.426826",
     "status": "completed"
    },
    "tags": []
   },
   "outputs": [
    {
     "name": "stdout",
     "output_type": "stream",
     "text": [
      "Splitting 91 candies\n",
      "Splitting 1 candy\n"
     ]
    },
    {
     "data": {
      "text/plain": [
       "1"
      ]
     },
     "execution_count": 6,
     "metadata": {},
     "output_type": "execute_result"
    }
   ],
   "source": [
    "def to_smash(total_candies):\n",
    "    \"\"\"Return the number of leftover candies that must be smashed after distributing\n",
    "    the given number of candies evenly between 3 friends.\n",
    "    \n",
    "    >>> to_smash(91)\n",
    "    1\n",
    "    \"\"\"\n",
    "    if total_candies ==1:\n",
    "        print(\"Splitting\", total_candies, \"candy\")\n",
    "    else:\n",
    "        print(\"Splitting\", total_candies, \"candies\")\n",
    "    return total_candies % 3\n",
    "\n",
    "to_smash(91)\n",
    "to_smash(1)"
   ]
  },
  {
   "cell_type": "markdown",
   "id": "6f21b564",
   "metadata": {
    "papermill": {
     "duration": 0.009759,
     "end_time": "2024-01-11T10:17:08.468449",
     "exception": false,
     "start_time": "2024-01-11T10:17:08.458690",
     "status": "completed"
    },
    "tags": []
   },
   "source": [
    "To get credit for completing this problem, and to see the official answer, run the code cell below."
   ]
  },
  {
   "cell_type": "code",
   "execution_count": 7,
   "id": "e0891da4",
   "metadata": {
    "execution": {
     "iopub.execute_input": "2024-01-11T10:17:08.491583Z",
     "iopub.status.busy": "2024-01-11T10:17:08.490914Z",
     "iopub.status.idle": "2024-01-11T10:17:08.499753Z",
     "shell.execute_reply": "2024-01-11T10:17:08.498767Z"
    },
    "papermill": {
     "duration": 0.02285,
     "end_time": "2024-01-11T10:17:08.501901",
     "exception": false,
     "start_time": "2024-01-11T10:17:08.479051",
     "status": "completed"
    },
    "tags": []
   },
   "outputs": [
    {
     "data": {
      "application/javascript": [
       "parent.postMessage({\"jupyterEvent\": \"custom.exercise_interaction\", \"data\": {\"interactionType\": 3, \"questionType\": 4, \"questionId\": \"2_PluralizationProblem\", \"learnToolsVersion\": \"0.3.4\", \"valueTowardsCompletion\": 0.0, \"failureMessage\": \"\", \"exceptionClass\": \"\", \"trace\": \"\", \"outcomeType\": 4}}, \"*\")"
      ],
      "text/plain": [
       "<IPython.core.display.Javascript object>"
      ]
     },
     "metadata": {},
     "output_type": "display_data"
    },
    {
     "data": {
      "text/markdown": [
       "<span style=\"color:#33cc99\">Solution:</span> A straightforward (and totally fine) solution is to replace the original `print` call with:\n",
       "\n",
       "```python\n",
       "if total_candies == 1:\n",
       "    print(\"Splitting 1 candy\")\n",
       "else:\n",
       "    print(\"Splitting\", total_candies, \"candies\")\n",
       "```\n",
       "\n",
       "Here's a slightly more succinct solution using a conditional expression:\n",
       "\n",
       "```python\n",
       "print(\"Splitting\", total_candies, \"candy\" if total_candies == 1 else \"candies\")\n",
       "```"
      ],
      "text/plain": [
       "Solution: A straightforward (and totally fine) solution is to replace the original `print` call with:\n",
       "\n",
       "```python\n",
       "if total_candies == 1:\n",
       "    print(\"Splitting 1 candy\")\n",
       "else:\n",
       "    print(\"Splitting\", total_candies, \"candies\")\n",
       "```\n",
       "\n",
       "Here's a slightly more succinct solution using a conditional expression:\n",
       "\n",
       "```python\n",
       "print(\"Splitting\", total_candies, \"candy\" if total_candies == 1 else \"candies\")\n",
       "```"
      ]
     },
     "metadata": {},
     "output_type": "display_data"
    }
   ],
   "source": [
    "# Check your answer (Run this code cell to receive credit!)\n",
    "q2.solution()"
   ]
  },
  {
   "cell_type": "markdown",
   "id": "66faa721",
   "metadata": {
    "papermill": {
     "duration": 0.00966,
     "end_time": "2024-01-11T10:17:08.521516",
     "exception": false,
     "start_time": "2024-01-11T10:17:08.511856",
     "status": "completed"
    },
    "tags": []
   },
   "source": [
    "# 3. <span title=\"A bit spicy\" style=\"color: darkgreen \">🌶️</span>\n",
    "\n",
    "In the tutorial, we talked about deciding whether we're prepared for the weather. I said that I'm safe from today's weather if...\n",
    "- I have an umbrella...\n",
    "- or if the rain isn't too heavy and I have a hood...\n",
    "- otherwise, I'm still fine unless it's raining *and* it's a workday\n",
    "\n",
    "The function below uses our first attempt at turning this logic into a Python expression. I claimed that there was a bug in that code. Can you find it?\n",
    "\n",
    "To prove that `prepared_for_weather` is buggy, come up with a set of inputs where either:\n",
    "- the function returns `False` (but should have returned `True`), or\n",
    "- the function returned `True` (but should have returned `False`).\n",
    "\n",
    "To get credit for completing this question, your code should return a <font color='#33cc33'>Correct</font> result."
   ]
  },
  {
   "cell_type": "code",
   "execution_count": 8,
   "id": "c7e4d0f4",
   "metadata": {
    "execution": {
     "iopub.execute_input": "2024-01-11T10:17:08.543665Z",
     "iopub.status.busy": "2024-01-11T10:17:08.542895Z",
     "iopub.status.idle": "2024-01-11T10:17:08.555585Z",
     "shell.execute_reply": "2024-01-11T10:17:08.554532Z"
    },
    "papermill": {
     "duration": 0.026465,
     "end_time": "2024-01-11T10:17:08.557924",
     "exception": false,
     "start_time": "2024-01-11T10:17:08.531459",
     "status": "completed"
    },
    "tags": []
   },
   "outputs": [
    {
     "name": "stdout",
     "output_type": "stream",
     "text": [
      "False\n"
     ]
    },
    {
     "data": {
      "application/javascript": [
       "parent.postMessage({\"jupyterEvent\": \"custom.exercise_interaction\", \"data\": {\"outcomeType\": 1, \"valueTowardsCompletion\": 0.2, \"interactionType\": 1, \"questionType\": 1, \"questionId\": \"3_WeatherDebug\", \"learnToolsVersion\": \"0.3.4\", \"failureMessage\": \"\", \"exceptionClass\": \"\", \"trace\": \"\"}}, \"*\")"
      ],
      "text/plain": [
       "<IPython.core.display.Javascript object>"
      ]
     },
     "metadata": {},
     "output_type": "display_data"
    },
    {
     "data": {
      "text/markdown": [
       "<span style=\"color:#33cc33\">Correct:</span> \n",
       "\n",
       "One example of a failing test case is:\n",
       "\n",
       "```python\n",
       "have_umbrella = False\n",
       "rain_level = 0.0\n",
       "have_hood = False\n",
       "is_workday = False\n",
       "```\n",
       "\n",
       "Clearly we're prepared for the weather in this case. It's not raining. Not only that, it's not a workday, so we don't even need to leave the house! But our function will return False on these inputs.\n",
       "\n",
       "The key problem is that Python implictly parenthesizes the last part as:\n",
       "\n",
       "```python\n",
       "(not (rain_level > 0)) and is_workday\n",
       "```\n",
       "\n",
       "Whereas what we were trying to express would look more like:\n",
       "\n",
       "```python\n",
       "not (rain_level > 0 and is_workday)\n",
       "```\n"
      ],
      "text/plain": [
       "Correct: \n",
       "\n",
       "One example of a failing test case is:\n",
       "\n",
       "```python\n",
       "have_umbrella = False\n",
       "rain_level = 0.0\n",
       "have_hood = False\n",
       "is_workday = False\n",
       "```\n",
       "\n",
       "Clearly we're prepared for the weather in this case. It's not raining. Not only that, it's not a workday, so we don't even need to leave the house! But our function will return False on these inputs.\n",
       "\n",
       "The key problem is that Python implictly parenthesizes the last part as:\n",
       "\n",
       "```python\n",
       "(not (rain_level > 0)) and is_workday\n",
       "```\n",
       "\n",
       "Whereas what we were trying to express would look more like:\n",
       "\n",
       "```python\n",
       "not (rain_level > 0 and is_workday)\n",
       "```"
      ]
     },
     "metadata": {},
     "output_type": "display_data"
    }
   ],
   "source": [
    "def prepared_for_weather(have_umbrella, rain_level, have_hood, is_workday):\n",
    "    # Don't change this code. Our goal is just to find the bug, not fix it!\n",
    "    return have_umbrella or rain_level < 5 and have_hood or not rain_level > 0 and is_workday\n",
    "\n",
    "# Change the values of these inputs so they represent a case where prepared_for_weather\n",
    "# returns the wrong answer.\n",
    "have_umbrella = False\n",
    "rain_level = 10.0\n",
    "have_hood = False\n",
    "is_workday = False\n",
    "\n",
    "# Check what the function returns given the current values of the variables above\n",
    "actual = prepared_for_weather(have_umbrella, rain_level, have_hood, is_workday)\n",
    "print(actual)\n",
    "\n",
    "# Check your answer\n",
    "q3.check()"
   ]
  },
  {
   "cell_type": "code",
   "execution_count": 9,
   "id": "dc0e8331",
   "metadata": {
    "execution": {
     "iopub.execute_input": "2024-01-11T10:17:08.580569Z",
     "iopub.status.busy": "2024-01-11T10:17:08.580154Z",
     "iopub.status.idle": "2024-01-11T10:17:08.584407Z",
     "shell.execute_reply": "2024-01-11T10:17:08.583125Z"
    },
    "papermill": {
     "duration": 0.01843,
     "end_time": "2024-01-11T10:17:08.586719",
     "exception": false,
     "start_time": "2024-01-11T10:17:08.568289",
     "status": "completed"
    },
    "tags": []
   },
   "outputs": [],
   "source": [
    "#q3.hint()\n",
    "#q3.solution()"
   ]
  },
  {
   "cell_type": "markdown",
   "id": "6957a347",
   "metadata": {
    "papermill": {
     "duration": 0.010102,
     "end_time": "2024-01-11T10:17:08.607093",
     "exception": false,
     "start_time": "2024-01-11T10:17:08.596991",
     "status": "completed"
    },
    "tags": []
   },
   "source": [
    "# 4.\n",
    "\n",
    "The function `is_negative` below is implemented correctly - it returns True if the given number is negative and False otherwise.\n",
    "\n",
    "However, it's more verbose than it needs to be. We can actually reduce the number of lines of code in this function by *75%* while keeping the same behaviour. \n",
    "\n",
    "See if you can come up with an equivalent body that uses just **one line** of code, and put it in the function `concise_is_negative`. (HINT: you don't even need Python's ternary syntax)"
   ]
  },
  {
   "cell_type": "code",
   "execution_count": 10,
   "id": "1b2eb03b",
   "metadata": {
    "execution": {
     "iopub.execute_input": "2024-01-11T10:17:08.630083Z",
     "iopub.status.busy": "2024-01-11T10:17:08.629727Z",
     "iopub.status.idle": "2024-01-11T10:17:08.639478Z",
     "shell.execute_reply": "2024-01-11T10:17:08.638417Z"
    },
    "papermill": {
     "duration": 0.024033,
     "end_time": "2024-01-11T10:17:08.641645",
     "exception": false,
     "start_time": "2024-01-11T10:17:08.617612",
     "status": "completed"
    },
    "tags": []
   },
   "outputs": [
    {
     "data": {
      "application/javascript": [
       "parent.postMessage({\"jupyterEvent\": \"custom.exercise_interaction\", \"data\": {\"outcomeType\": 1, \"valueTowardsCompletion\": 0.2, \"interactionType\": 1, \"questionType\": 2, \"questionId\": \"4_ConciseIsNegative\", \"learnToolsVersion\": \"0.3.4\", \"failureMessage\": \"\", \"exceptionClass\": \"\", \"trace\": \"\"}}, \"*\")"
      ],
      "text/plain": [
       "<IPython.core.display.Javascript object>"
      ]
     },
     "metadata": {},
     "output_type": "display_data"
    },
    {
     "data": {
      "text/markdown": [
       "<span style=\"color:#33cc33\">Correct</span>"
      ],
      "text/plain": [
       "Correct"
      ]
     },
     "metadata": {},
     "output_type": "display_data"
    }
   ],
   "source": [
    "def is_negative(number):\n",
    "    if number < 0:\n",
    "        return True\n",
    "    else:\n",
    "        return False\n",
    "\n",
    "def concise_is_negative(number):\n",
    "    return number<0\n",
    "    pass # Your code goes here (try to keep it to one line!)\n",
    "\n",
    "# Check your answer\n",
    "q4.check()"
   ]
  },
  {
   "cell_type": "code",
   "execution_count": 11,
   "id": "87e21440",
   "metadata": {
    "execution": {
     "iopub.execute_input": "2024-01-11T10:17:08.726368Z",
     "iopub.status.busy": "2024-01-11T10:17:08.725947Z",
     "iopub.status.idle": "2024-01-11T10:17:08.730475Z",
     "shell.execute_reply": "2024-01-11T10:17:08.729307Z"
    },
    "papermill": {
     "duration": 0.019003,
     "end_time": "2024-01-11T10:17:08.732756",
     "exception": false,
     "start_time": "2024-01-11T10:17:08.713753",
     "status": "completed"
    },
    "tags": []
   },
   "outputs": [],
   "source": [
    "#q4.hint()\n",
    "#q4.solution()"
   ]
  },
  {
   "cell_type": "markdown",
   "id": "6ff9e8cf",
   "metadata": {
    "papermill": {
     "duration": 0.01047,
     "end_time": "2024-01-11T10:17:08.754082",
     "exception": false,
     "start_time": "2024-01-11T10:17:08.743612",
     "status": "completed"
    },
    "tags": []
   },
   "source": [
    "# 5a.\n",
    "\n",
    "The boolean variables `ketchup`, `mustard` and `onion` represent whether a customer wants a particular topping on their hot dog. We want to implement a number of boolean functions that correspond to some yes-or-no questions about the customer's order. For example:"
   ]
  },
  {
   "cell_type": "code",
   "execution_count": 12,
   "id": "2f4759da",
   "metadata": {
    "execution": {
     "iopub.execute_input": "2024-01-11T10:17:08.778038Z",
     "iopub.status.busy": "2024-01-11T10:17:08.777661Z",
     "iopub.status.idle": "2024-01-11T10:17:08.782460Z",
     "shell.execute_reply": "2024-01-11T10:17:08.781257Z"
    },
    "papermill": {
     "duration": 0.019643,
     "end_time": "2024-01-11T10:17:08.784722",
     "exception": false,
     "start_time": "2024-01-11T10:17:08.765079",
     "status": "completed"
    },
    "tags": []
   },
   "outputs": [],
   "source": [
    "def onionless(ketchup, mustard, onion):\n",
    "    \"\"\"Return whether the customer doesn't want onions.\n",
    "    \"\"\"\n",
    "    return not onion"
   ]
  },
  {
   "cell_type": "code",
   "execution_count": 13,
   "id": "717f23a3",
   "metadata": {
    "execution": {
     "iopub.execute_input": "2024-01-11T10:17:08.808052Z",
     "iopub.status.busy": "2024-01-11T10:17:08.807670Z",
     "iopub.status.idle": "2024-01-11T10:17:08.816733Z",
     "shell.execute_reply": "2024-01-11T10:17:08.815694Z"
    },
    "papermill": {
     "duration": 0.023199,
     "end_time": "2024-01-11T10:17:08.818701",
     "exception": false,
     "start_time": "2024-01-11T10:17:08.795502",
     "status": "completed"
    },
    "tags": []
   },
   "outputs": [
    {
     "data": {
      "application/javascript": [
       "parent.postMessage({\"jupyterEvent\": \"custom.exercise_interaction\", \"data\": {\"outcomeType\": 1, \"valueTowardsCompletion\": 0.2, \"interactionType\": 1, \"questionType\": 2, \"questionId\": \"5.1_AllToppings\", \"learnToolsVersion\": \"0.3.4\", \"failureMessage\": \"\", \"exceptionClass\": \"\", \"trace\": \"\"}}, \"*\")"
      ],
      "text/plain": [
       "<IPython.core.display.Javascript object>"
      ]
     },
     "metadata": {},
     "output_type": "display_data"
    },
    {
     "data": {
      "text/markdown": [
       "<span style=\"color:#33cc33\">Correct</span>"
      ],
      "text/plain": [
       "Correct"
      ]
     },
     "metadata": {},
     "output_type": "display_data"
    }
   ],
   "source": [
    "def wants_all_toppings(ketchup, mustard, onion):\n",
    "    \"\"\"Return whether the customer wants \"the works\" (all 3 toppings)\n",
    "    \"\"\"\n",
    "    return ketchup and mustard and onion\n",
    "    pass\n",
    "\n",
    "# Check your answer\n",
    "q5.a.check()"
   ]
  },
  {
   "cell_type": "code",
   "execution_count": 14,
   "id": "41ff2da7",
   "metadata": {
    "execution": {
     "iopub.execute_input": "2024-01-11T10:17:08.843307Z",
     "iopub.status.busy": "2024-01-11T10:17:08.842843Z",
     "iopub.status.idle": "2024-01-11T10:17:08.848033Z",
     "shell.execute_reply": "2024-01-11T10:17:08.846815Z"
    },
    "papermill": {
     "duration": 0.020712,
     "end_time": "2024-01-11T10:17:08.850586",
     "exception": false,
     "start_time": "2024-01-11T10:17:08.829874",
     "status": "completed"
    },
    "tags": []
   },
   "outputs": [],
   "source": [
    "#q5.a.hint()\n",
    "#q5.a.solution()"
   ]
  },
  {
   "cell_type": "markdown",
   "id": "880052cd",
   "metadata": {
    "papermill": {
     "duration": 0.010751,
     "end_time": "2024-01-11T10:17:08.875535",
     "exception": false,
     "start_time": "2024-01-11T10:17:08.864784",
     "status": "completed"
    },
    "tags": []
   },
   "source": [
    "# 5b.\n",
    "\n",
    "For the next function, fill in the body to match the English description in the docstring. "
   ]
  },
  {
   "cell_type": "code",
   "execution_count": 15,
   "id": "397002ec",
   "metadata": {
    "execution": {
     "iopub.execute_input": "2024-01-11T10:17:08.899741Z",
     "iopub.status.busy": "2024-01-11T10:17:08.899370Z",
     "iopub.status.idle": "2024-01-11T10:17:08.908647Z",
     "shell.execute_reply": "2024-01-11T10:17:08.907579Z"
    },
    "papermill": {
     "duration": 0.024265,
     "end_time": "2024-01-11T10:17:08.910987",
     "exception": false,
     "start_time": "2024-01-11T10:17:08.886722",
     "status": "completed"
    },
    "tags": []
   },
   "outputs": [
    {
     "data": {
      "application/javascript": [
       "parent.postMessage({\"jupyterEvent\": \"custom.exercise_interaction\", \"data\": {\"outcomeType\": 1, \"valueTowardsCompletion\": 0.2, \"interactionType\": 1, \"questionType\": 2, \"questionId\": \"5.2_PlainDog\", \"learnToolsVersion\": \"0.3.4\", \"failureMessage\": \"\", \"exceptionClass\": \"\", \"trace\": \"\"}}, \"*\")"
      ],
      "text/plain": [
       "<IPython.core.display.Javascript object>"
      ]
     },
     "metadata": {},
     "output_type": "display_data"
    },
    {
     "data": {
      "text/markdown": [
       "<span style=\"color:#33cc33\">Correct:</span> \n",
       "\n",
       "One solution looks like:\n",
       "```python\n",
       "return not ketchup and not mustard and not onion\n",
       "```\n",
       "\n",
       "We can also [\"factor out\" the nots](https://en.wikipedia.org/wiki/De_Morgan%27s_laws) to get:\n",
       "\n",
       "```python\n",
       "return not (ketchup or mustard or onion)\n",
       "```"
      ],
      "text/plain": [
       "Correct: \n",
       "\n",
       "One solution looks like:\n",
       "```python\n",
       "return not ketchup and not mustard and not onion\n",
       "```\n",
       "\n",
       "We can also [\"factor out\" the nots](https://en.wikipedia.org/wiki/De_Morgan%27s_laws) to get:\n",
       "\n",
       "```python\n",
       "return not (ketchup or mustard or onion)\n",
       "```"
      ]
     },
     "metadata": {},
     "output_type": "display_data"
    }
   ],
   "source": [
    "def wants_plain_hotdog(ketchup, mustard, onion):\n",
    "    \"\"\"Return whether the customer wants a plain hot dog with no toppings.\n",
    "    \"\"\"\n",
    "    return not (ketchup or mustard or onion)\n",
    "    pass\n",
    "\n",
    "# Check your answer\n",
    "q5.b.check()"
   ]
  },
  {
   "cell_type": "code",
   "execution_count": 16,
   "id": "c8e72088",
   "metadata": {
    "execution": {
     "iopub.execute_input": "2024-01-11T10:17:08.935832Z",
     "iopub.status.busy": "2024-01-11T10:17:08.934941Z",
     "iopub.status.idle": "2024-01-11T10:17:08.938937Z",
     "shell.execute_reply": "2024-01-11T10:17:08.938031Z"
    },
    "papermill": {
     "duration": 0.018704,
     "end_time": "2024-01-11T10:17:08.941055",
     "exception": false,
     "start_time": "2024-01-11T10:17:08.922351",
     "status": "completed"
    },
    "tags": []
   },
   "outputs": [],
   "source": [
    "#q5.b.hint()\n",
    "#q5.b.solution()"
   ]
  },
  {
   "cell_type": "markdown",
   "id": "a9582198",
   "metadata": {
    "papermill": {
     "duration": 0.011241,
     "end_time": "2024-01-11T10:17:08.964118",
     "exception": false,
     "start_time": "2024-01-11T10:17:08.952877",
     "status": "completed"
    },
    "tags": []
   },
   "source": [
    "# 5c.\n",
    "\n",
    "You know what to do: for the next function, fill in the body to match the English description in the docstring."
   ]
  },
  {
   "cell_type": "code",
   "execution_count": 17,
   "id": "1240e47e",
   "metadata": {
    "execution": {
     "iopub.execute_input": "2024-01-11T10:17:08.988346Z",
     "iopub.status.busy": "2024-01-11T10:17:08.987934Z",
     "iopub.status.idle": "2024-01-11T10:17:08.997342Z",
     "shell.execute_reply": "2024-01-11T10:17:08.996275Z"
    },
    "papermill": {
     "duration": 0.024257,
     "end_time": "2024-01-11T10:17:08.999658",
     "exception": false,
     "start_time": "2024-01-11T10:17:08.975401",
     "status": "completed"
    },
    "tags": []
   },
   "outputs": [
    {
     "data": {
      "application/javascript": [
       "parent.postMessage({\"jupyterEvent\": \"custom.exercise_interaction\", \"data\": {\"outcomeType\": 1, \"valueTowardsCompletion\": 0.2, \"interactionType\": 1, \"questionType\": 2, \"questionId\": \"5.3_OneSauce\", \"learnToolsVersion\": \"0.3.4\", \"failureMessage\": \"\", \"exceptionClass\": \"\", \"trace\": \"\"}}, \"*\")"
      ],
      "text/plain": [
       "<IPython.core.display.Javascript object>"
      ]
     },
     "metadata": {},
     "output_type": "display_data"
    },
    {
     "data": {
      "text/markdown": [
       "<span style=\"color:#33cc33\">Correct</span>"
      ],
      "text/plain": [
       "Correct"
      ]
     },
     "metadata": {},
     "output_type": "display_data"
    }
   ],
   "source": [
    "def exactly_one_sauce(ketchup, mustard, onion):\n",
    "    \"\"\"Return whether the customer wants either ketchup or mustard, but not both.\n",
    "    (You may be familiar with this operation under the name \"exclusive or\")\n",
    "    \"\"\"\n",
    "    return ketchup ^ mustard\n",
    "    pass\n",
    "\n",
    "# Check your answer\n",
    "q5.c.check()"
   ]
  },
  {
   "cell_type": "code",
   "execution_count": 18,
   "id": "9f8ef335",
   "metadata": {
    "execution": {
     "iopub.execute_input": "2024-01-11T10:17:09.024370Z",
     "iopub.status.busy": "2024-01-11T10:17:09.023959Z",
     "iopub.status.idle": "2024-01-11T10:17:09.027459Z",
     "shell.execute_reply": "2024-01-11T10:17:09.026716Z"
    },
    "papermill": {
     "duration": 0.018286,
     "end_time": "2024-01-11T10:17:09.029497",
     "exception": false,
     "start_time": "2024-01-11T10:17:09.011211",
     "status": "completed"
    },
    "tags": []
   },
   "outputs": [],
   "source": [
    "#q5.c.hint()\n",
    "#q5.c.solution()"
   ]
  },
  {
   "cell_type": "markdown",
   "id": "11a6e3ab",
   "metadata": {
    "papermill": {
     "duration": 0.011199,
     "end_time": "2024-01-11T10:17:09.052387",
     "exception": false,
     "start_time": "2024-01-11T10:17:09.041188",
     "status": "completed"
    },
    "tags": []
   },
   "source": [
    "# 6. <span title=\"A bit spicy\" style=\"color: darkgreen \">🌶️</span>\n",
    "\n",
    "We’ve seen that calling `bool()` on an integer returns `False` if it’s equal to 0 and `True` otherwise. What happens if we call `int()` on a bool? Try it out in the notebook cell below.\n",
    "\n",
    "Can you take advantage of this to write a succinct function that corresponds to the English sentence \"does the customer want exactly one topping?\"?"
   ]
  },
  {
   "cell_type": "code",
   "execution_count": 19,
   "id": "a9f37332",
   "metadata": {
    "execution": {
     "iopub.execute_input": "2024-01-11T10:17:09.076838Z",
     "iopub.status.busy": "2024-01-11T10:17:09.076442Z",
     "iopub.status.idle": "2024-01-11T10:17:09.085417Z",
     "shell.execute_reply": "2024-01-11T10:17:09.084414Z"
    },
    "papermill": {
     "duration": 0.023803,
     "end_time": "2024-01-11T10:17:09.087669",
     "exception": false,
     "start_time": "2024-01-11T10:17:09.063866",
     "status": "completed"
    },
    "tags": []
   },
   "outputs": [
    {
     "data": {
      "application/javascript": [
       "parent.postMessage({\"jupyterEvent\": \"custom.exercise_interaction\", \"data\": {\"outcomeType\": 1, \"valueTowardsCompletion\": 0.2, \"interactionType\": 1, \"questionType\": 2, \"questionId\": \"6_OneTopping\", \"learnToolsVersion\": \"0.3.4\", \"failureMessage\": \"\", \"exceptionClass\": \"\", \"trace\": \"\"}}, \"*\")"
      ],
      "text/plain": [
       "<IPython.core.display.Javascript object>"
      ]
     },
     "metadata": {},
     "output_type": "display_data"
    },
    {
     "data": {
      "text/markdown": [
       "<span style=\"color:#33cc33\">Correct:</span> \n",
       "\n",
       "This condition would be pretty complicated to express using just `and`, `or` and `not`, but using boolean-to-integer conversion gives us this short solution:\n",
       "```python\n",
       "return (int(ketchup) + int(mustard) + int(onion)) == 1\n",
       "```\n",
       "\n",
       "Fun fact: we don't technically need to call `int` on the arguments. Just by doing addition with booleans, Python implicitly does the integer conversion. So we could also write...\n",
       "\n",
       "```python\n",
       "return (ketchup + mustard + onion) == 1\n",
       "```"
      ],
      "text/plain": [
       "Correct: \n",
       "\n",
       "This condition would be pretty complicated to express using just `and`, `or` and `not`, but using boolean-to-integer conversion gives us this short solution:\n",
       "```python\n",
       "return (int(ketchup) + int(mustard) + int(onion)) == 1\n",
       "```\n",
       "\n",
       "Fun fact: we don't technically need to call `int` on the arguments. Just by doing addition with booleans, Python implicitly does the integer conversion. So we could also write...\n",
       "\n",
       "```python\n",
       "return (ketchup + mustard + onion) == 1\n",
       "```"
      ]
     },
     "metadata": {},
     "output_type": "display_data"
    }
   ],
   "source": [
    "def exactly_one_topping(ketchup, mustard, onion):\n",
    "    \"\"\"Return whether the customer wants exactly one of the three available toppings\n",
    "    on their hot dog.\n",
    "    \"\"\"\n",
    "    return (ketchup + mustard + onion) == 1\n",
    "    pass\n",
    "\n",
    "# Check your answer\n",
    "q6.check()"
   ]
  },
  {
   "cell_type": "code",
   "execution_count": 20,
   "id": "288cd179",
   "metadata": {
    "execution": {
     "iopub.execute_input": "2024-01-11T10:17:09.112935Z",
     "iopub.status.busy": "2024-01-11T10:17:09.112530Z",
     "iopub.status.idle": "2024-01-11T10:17:09.118093Z",
     "shell.execute_reply": "2024-01-11T10:17:09.117254Z"
    },
    "papermill": {
     "duration": 0.020965,
     "end_time": "2024-01-11T10:17:09.120343",
     "exception": false,
     "start_time": "2024-01-11T10:17:09.099378",
     "status": "completed"
    },
    "tags": []
   },
   "outputs": [],
   "source": [
    "#q6.hint()\n",
    "#q6.solution()"
   ]
  },
  {
   "cell_type": "markdown",
   "id": "cfef023a",
   "metadata": {
    "papermill": {
     "duration": 0.011486,
     "end_time": "2024-01-11T10:17:09.143682",
     "exception": false,
     "start_time": "2024-01-11T10:17:09.132196",
     "status": "completed"
    },
    "tags": []
   },
   "source": [
    "# 7. <span title=\"A bit spicy\" style=\"color: darkgreen \">🌶️</span> (Optional)\n",
    "\n",
    "In this problem we'll be working with a simplified version of [blackjack](https://en.wikipedia.org/wiki/Blackjack) (aka twenty-one). In this version there is one player (who you'll control) and a dealer. Play proceeds as follows:\n",
    "\n",
    "- The player is dealt two face-up cards. The dealer is dealt one face-up card.\n",
    "- The player may ask to be dealt another card ('hit') as many times as they wish. If the sum of their cards exceeds 21, they lose the round immediately.\n",
    "- The dealer then deals additional cards to himself until either:\n",
    "    - the sum of the dealer's cards exceeds 21, in which case the player wins the round\n",
    "    - the sum of the dealer's cards is greater than or equal to 17. If the player's total is greater than the dealer's, the player wins. Otherwise, the dealer wins (even in case of a tie).\n",
    "    \n",
    "When calculating the sum of cards, Jack, Queen, and King count for 10. Aces can count as 1 or 11 (when referring to a player's \"total\" above, we mean the largest total that can be made without exceeding 21. So e.g. A+8 = 19, A+8+8 = 17)\n",
    "\n",
    "For this problem, you'll write a function representing the player's decision-making strategy in this game. We've provided a very unintelligent implementation below:"
   ]
  },
  {
   "cell_type": "code",
   "execution_count": 21,
   "id": "c9914dde",
   "metadata": {
    "execution": {
     "iopub.execute_input": "2024-01-11T10:17:09.169003Z",
     "iopub.status.busy": "2024-01-11T10:17:09.168632Z",
     "iopub.status.idle": "2024-01-11T10:17:09.173615Z",
     "shell.execute_reply": "2024-01-11T10:17:09.172576Z"
    },
    "papermill": {
     "duration": 0.020195,
     "end_time": "2024-01-11T10:17:09.175650",
     "exception": false,
     "start_time": "2024-01-11T10:17:09.155455",
     "status": "completed"
    },
    "tags": []
   },
   "outputs": [],
   "source": [
    "def should_hit(dealer_total, player_total, player_low_aces, player_high_aces):\n",
    "    \"\"\"Return True if the player should hit (request another card) given the current game\n",
    "    state, or False if the player should stay.\n",
    "    When calculating a hand's total value, we count aces as \"high\" (with value 11) if doing so\n",
    "    doesn't bring the total above 21, otherwise we count them as low (with value 1). \n",
    "    For example, if the player's hand is {A, A, A, 7}, we will count it as 11 + 1 + 1 + 7,\n",
    "    and therefore set player_total=20, player_low_aces=2, player_high_aces=1.\n",
    "    \"\"\"\n",
    "    return False"
   ]
  },
  {
   "cell_type": "markdown",
   "id": "66d3cf0a",
   "metadata": {
    "papermill": {
     "duration": 0.012865,
     "end_time": "2024-01-11T10:17:09.200371",
     "exception": false,
     "start_time": "2024-01-11T10:17:09.187506",
     "status": "completed"
    },
    "tags": []
   },
   "source": [
    "This very conservative agent *always* sticks with the hand of two cards that they're dealt.\n",
    "\n",
    "We'll be simulating games between your player agent and our own dealer agent by calling your function.\n",
    "\n",
    "Try running the function below to see an example of a simulated game:"
   ]
  },
  {
   "cell_type": "code",
   "execution_count": 22,
   "id": "836d7fdc",
   "metadata": {
    "execution": {
     "iopub.execute_input": "2024-01-11T10:17:09.226313Z",
     "iopub.status.busy": "2024-01-11T10:17:09.225837Z",
     "iopub.status.idle": "2024-01-11T10:17:09.231114Z",
     "shell.execute_reply": "2024-01-11T10:17:09.230212Z"
    },
    "papermill": {
     "duration": 0.021062,
     "end_time": "2024-01-11T10:17:09.233442",
     "exception": false,
     "start_time": "2024-01-11T10:17:09.212380",
     "status": "completed"
    },
    "tags": []
   },
   "outputs": [
    {
     "name": "stdout",
     "output_type": "stream",
     "text": [
      "Player starts with 10 and 9 (total = 19)\n",
      "Dealer starts with 7\n",
      "\n",
      "__Player's turn__\n",
      "Player stays\n",
      "\n",
      "__Dealer's turn__\n",
      "Dealer hits and receives 9. (total = 16)\n",
      "Dealer hits and receives 7. (total = 23)\n",
      "Dealer busts! Player wins.\n"
     ]
    }
   ],
   "source": [
    "q7.simulate_one_game()"
   ]
  },
  {
   "cell_type": "markdown",
   "id": "c2643148",
   "metadata": {
    "papermill": {
     "duration": 0.011438,
     "end_time": "2024-01-11T10:17:09.256862",
     "exception": false,
     "start_time": "2024-01-11T10:17:09.245424",
     "status": "completed"
    },
    "tags": []
   },
   "source": [
    "The real test of your agent's mettle is their average win rate over many games. Try calling the function below to simulate 50000 games of blackjack (it may take a couple seconds):"
   ]
  },
  {
   "cell_type": "code",
   "execution_count": 23,
   "id": "51576917",
   "metadata": {
    "execution": {
     "iopub.execute_input": "2024-01-11T10:17:09.282409Z",
     "iopub.status.busy": "2024-01-11T10:17:09.281712Z",
     "iopub.status.idle": "2024-01-11T10:17:10.664282Z",
     "shell.execute_reply": "2024-01-11T10:17:10.663032Z"
    },
    "papermill": {
     "duration": 1.398762,
     "end_time": "2024-01-11T10:17:10.667363",
     "exception": false,
     "start_time": "2024-01-11T10:17:09.268601",
     "status": "completed"
    },
    "tags": []
   },
   "outputs": [
    {
     "name": "stdout",
     "output_type": "stream",
     "text": [
      "Player won 19230 out of 50000 games (win rate = 38.5%)\n"
     ]
    }
   ],
   "source": [
    "q7.simulate(n_games=50000)"
   ]
  },
  {
   "cell_type": "markdown",
   "id": "c4fa91c9",
   "metadata": {
    "papermill": {
     "duration": 0.011629,
     "end_time": "2024-01-11T10:17:10.691204",
     "exception": false,
     "start_time": "2024-01-11T10:17:10.679575",
     "status": "completed"
    },
    "tags": []
   },
   "source": [
    "Our dumb agent that completely ignores the game state still manages to win shockingly often!\n",
    "\n",
    "Try adding some more smarts to the `should_hit` function and see how it affects the results."
   ]
  },
  {
   "cell_type": "code",
   "execution_count": 24,
   "id": "e41a2544",
   "metadata": {
    "execution": {
     "iopub.execute_input": "2024-01-11T10:17:10.717336Z",
     "iopub.status.busy": "2024-01-11T10:17:10.716328Z",
     "iopub.status.idle": "2024-01-11T10:17:12.105723Z",
     "shell.execute_reply": "2024-01-11T10:17:12.104494Z"
    },
    "papermill": {
     "duration": 1.405166,
     "end_time": "2024-01-11T10:17:12.108280",
     "exception": false,
     "start_time": "2024-01-11T10:17:10.703114",
     "status": "completed"
    },
    "tags": []
   },
   "outputs": [
    {
     "name": "stdout",
     "output_type": "stream",
     "text": [
      "Player won 19038 out of 50000 games (win rate = 38.1%)\n"
     ]
    }
   ],
   "source": [
    "def should_hit(dealer_total, player_total, player_low_aces, player_high_aces):\n",
    "    \"\"\"Return True if the player should hit (request another card) given the current game\n",
    "    state, or False if the player should stay.\n",
    "    When calculating a hand's total value, we count aces as \"high\" (with value 11) if doing so\n",
    "    doesn't bring the total above 21, otherwise we count them as low (with value 1). \n",
    "    For example, if the player's hand is {A, A, A, 7}, we will count it as 11 + 1 + 1 + 7,\n",
    "    and therefore set player_total=20, player_low_aces=2, player_high_aces=1.\n",
    "    \"\"\"\n",
    "    return False\n",
    "\n",
    "q7.simulate(n_games=50000)"
   ]
  },
  {
   "cell_type": "markdown",
   "id": "41772910",
   "metadata": {
    "papermill": {
     "duration": 0.01175,
     "end_time": "2024-01-11T10:17:12.132198",
     "exception": false,
     "start_time": "2024-01-11T10:17:12.120448",
     "status": "completed"
    },
    "tags": []
   },
   "source": [
    "# Keep Going\n",
    "\n",
    "Learn about **[lists and tuples](https://www.kaggle.com/colinmorris/lists)** to handle multiple items of data in a systematic way."
   ]
  },
  {
   "cell_type": "markdown",
   "id": "d6eaa53a",
   "metadata": {
    "papermill": {
     "duration": 0.012461,
     "end_time": "2024-01-11T10:17:12.156635",
     "exception": false,
     "start_time": "2024-01-11T10:17:12.144174",
     "status": "completed"
    },
    "tags": []
   },
   "source": [
    "---\n",
    "\n",
    "\n",
    "\n",
    "\n",
    "*Have questions or comments? Visit the [course discussion forum](https://www.kaggle.com/learn/python/discussion) to chat with other learners.*"
   ]
  }
 ],
 "metadata": {
  "kaggle": {
   "accelerator": "none",
   "dataSources": [],
   "isGpuEnabled": false,
   "isInternetEnabled": false,
   "language": "python",
   "sourceType": "notebook"
  },
  "kernelspec": {
   "display_name": "Python 3",
   "language": "python",
   "name": "python3"
  },
  "language_info": {
   "codemirror_mode": {
    "name": "ipython",
    "version": 3
   },
   "file_extension": ".py",
   "mimetype": "text/x-python",
   "name": "python",
   "nbconvert_exporter": "python",
   "pygments_lexer": "ipython3",
   "version": "3.10.12"
  },
  "learntools_metadata": {
   "lesson_index": 2,
   "type": "exercise"
  },
  "papermill": {
   "default_parameters": {},
   "duration": 8.175703,
   "end_time": "2024-01-11T10:17:12.690906",
   "environment_variables": {},
   "exception": null,
   "input_path": "__notebook__.ipynb",
   "output_path": "__notebook__.ipynb",
   "parameters": {},
   "start_time": "2024-01-11T10:17:04.515203",
   "version": "2.4.0"
  }
 },
 "nbformat": 4,
 "nbformat_minor": 5
}
