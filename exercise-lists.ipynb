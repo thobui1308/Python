{
 "cells": [
  {
   "cell_type": "markdown",
   "id": "e848dc5d",
   "metadata": {
    "papermill": {
     "duration": 0.007337,
     "end_time": "2024-01-12T08:06:18.758700",
     "exception": false,
     "start_time": "2024-01-12T08:06:18.751363",
     "status": "completed"
    },
    "tags": []
   },
   "source": [
    "**This notebook is an exercise in the [Python](https://www.kaggle.com/learn/python) course.  You can reference the tutorial at [this link](https://www.kaggle.com/colinmorris/lists).**\n",
    "\n",
    "---\n"
   ]
  },
  {
   "cell_type": "markdown",
   "id": "2246680b",
   "metadata": {
    "papermill": {
     "duration": 0.006253,
     "end_time": "2024-01-12T08:06:18.771972",
     "exception": false,
     "start_time": "2024-01-12T08:06:18.765719",
     "status": "completed"
    },
    "tags": []
   },
   "source": [
    "Things get more interesting with lists. You'll apply your new knowledge to solve the questions below. Remember to run the following cell first."
   ]
  },
  {
   "cell_type": "code",
   "execution_count": 1,
   "id": "f7f325fe",
   "metadata": {
    "execution": {
     "iopub.execute_input": "2024-01-12T08:06:18.788480Z",
     "iopub.status.busy": "2024-01-12T08:06:18.787920Z",
     "iopub.status.idle": "2024-01-12T08:06:19.330515Z",
     "shell.execute_reply": "2024-01-12T08:06:19.329543Z"
    },
    "papermill": {
     "duration": 0.554639,
     "end_time": "2024-01-12T08:06:19.333361",
     "exception": false,
     "start_time": "2024-01-12T08:06:18.778722",
     "status": "completed"
    },
    "tags": []
   },
   "outputs": [
    {
     "name": "stdout",
     "output_type": "stream",
     "text": [
      "Setup complete.\n"
     ]
    }
   ],
   "source": [
    "from learntools.core import binder; binder.bind(globals())\n",
    "from learntools.python.ex4 import *\n",
    "print('Setup complete.')"
   ]
  },
  {
   "cell_type": "markdown",
   "id": "08ac114f",
   "metadata": {
    "papermill": {
     "duration": 0.00647,
     "end_time": "2024-01-12T08:06:19.347310",
     "exception": false,
     "start_time": "2024-01-12T08:06:19.340840",
     "status": "completed"
    },
    "tags": []
   },
   "source": [
    "# 1.\n",
    "\n",
    "Complete the function below according to its docstring."
   ]
  },
  {
   "cell_type": "code",
   "execution_count": 2,
   "id": "cd2e8f36",
   "metadata": {
    "execution": {
     "iopub.execute_input": "2024-01-12T08:06:19.364035Z",
     "iopub.status.busy": "2024-01-12T08:06:19.362558Z",
     "iopub.status.idle": "2024-01-12T08:06:19.377140Z",
     "shell.execute_reply": "2024-01-12T08:06:19.375826Z"
    },
    "papermill": {
     "duration": 0.026269,
     "end_time": "2024-01-12T08:06:19.380189",
     "exception": false,
     "start_time": "2024-01-12T08:06:19.353920",
     "status": "completed"
    },
    "tags": []
   },
   "outputs": [
    {
     "data": {
      "application/javascript": [
       "parent.postMessage({\"jupyterEvent\": \"custom.exercise_interaction\", \"data\": {\"outcomeType\": 1, \"valueTowardsCompletion\": 0.2, \"interactionType\": 1, \"questionType\": 2, \"questionId\": \"1_SelectSecondItem\", \"learnToolsVersion\": \"0.3.4\", \"failureMessage\": \"\", \"exceptionClass\": \"\", \"trace\": \"\"}}, \"*\")"
      ],
      "text/plain": [
       "<IPython.core.display.Javascript object>"
      ]
     },
     "metadata": {},
     "output_type": "display_data"
    },
    {
     "data": {
      "text/markdown": [
       "<span style=\"color:#33cc33\">Correct</span>"
      ],
      "text/plain": [
       "Correct"
      ]
     },
     "metadata": {},
     "output_type": "display_data"
    }
   ],
   "source": [
    "def select_second(L):\n",
    "    \"\"\"Return the second element of the given list. If the list has no second\n",
    "    element, return None.\n",
    "    \"\"\"\n",
    "    if len(L) > 1:\n",
    "        return L[1]\n",
    "    else:\n",
    "        return None \n",
    "    pass\n",
    "\n",
    "# Check your answer\n",
    "q1.check()"
   ]
  },
  {
   "cell_type": "code",
   "execution_count": 3,
   "id": "615c9a09",
   "metadata": {
    "execution": {
     "iopub.execute_input": "2024-01-12T08:06:19.397162Z",
     "iopub.status.busy": "2024-01-12T08:06:19.396723Z",
     "iopub.status.idle": "2024-01-12T08:06:19.402105Z",
     "shell.execute_reply": "2024-01-12T08:06:19.400771Z"
    },
    "papermill": {
     "duration": 0.01712,
     "end_time": "2024-01-12T08:06:19.404670",
     "exception": false,
     "start_time": "2024-01-12T08:06:19.387550",
     "status": "completed"
    },
    "tags": []
   },
   "outputs": [],
   "source": [
    "#q1.hint()\n",
    "#q1.solution()"
   ]
  },
  {
   "cell_type": "markdown",
   "id": "6ecb39a4",
   "metadata": {
    "papermill": {
     "duration": 0.006803,
     "end_time": "2024-01-12T08:06:19.418857",
     "exception": false,
     "start_time": "2024-01-12T08:06:19.412054",
     "status": "completed"
    },
    "tags": []
   },
   "source": [
    "# 2.\n",
    "\n",
    "You are analyzing sports teams.  Members of each team are stored in a list. The Coach is the first name in the list, the captain is the second name in the list, and other players are listed after that. \n",
    "These lists are stored in another list, which starts with the best team and proceeds through the list to the worst team last.  Complete the function below to select the **captain** of the worst team."
   ]
  },
  {
   "cell_type": "code",
   "execution_count": 4,
   "id": "112cd19e",
   "metadata": {
    "execution": {
     "iopub.execute_input": "2024-01-12T08:06:19.435936Z",
     "iopub.status.busy": "2024-01-12T08:06:19.434722Z",
     "iopub.status.idle": "2024-01-12T08:06:19.446805Z",
     "shell.execute_reply": "2024-01-12T08:06:19.445477Z"
    },
    "papermill": {
     "duration": 0.023594,
     "end_time": "2024-01-12T08:06:19.449602",
     "exception": false,
     "start_time": "2024-01-12T08:06:19.426008",
     "status": "completed"
    },
    "tags": []
   },
   "outputs": [
    {
     "data": {
      "application/javascript": [
       "parent.postMessage({\"jupyterEvent\": \"custom.exercise_interaction\", \"data\": {\"outcomeType\": 1, \"valueTowardsCompletion\": 0.2, \"interactionType\": 1, \"questionType\": 2, \"questionId\": \"2_LosingTeamCaptain\", \"learnToolsVersion\": \"0.3.4\", \"failureMessage\": \"\", \"exceptionClass\": \"\", \"trace\": \"\"}}, \"*\")"
      ],
      "text/plain": [
       "<IPython.core.display.Javascript object>"
      ]
     },
     "metadata": {},
     "output_type": "display_data"
    },
    {
     "data": {
      "text/markdown": [
       "<span style=\"color:#33cc33\">Correct</span>"
      ],
      "text/plain": [
       "Correct"
      ]
     },
     "metadata": {},
     "output_type": "display_data"
    }
   ],
   "source": [
    "def losing_team_captain(teams):\n",
    "    \"\"\"Given a list of teams, where each team is a list of names, return the 2nd player (captain)\n",
    "    from the last listed team\n",
    "    \"\"\"\n",
    "    return teams[-1][1]\n",
    "    pass\n",
    "\n",
    "# Check your answer\n",
    "q2.check()"
   ]
  },
  {
   "cell_type": "code",
   "execution_count": 5,
   "id": "bb9c37e1",
   "metadata": {
    "execution": {
     "iopub.execute_input": "2024-01-12T08:06:19.467000Z",
     "iopub.status.busy": "2024-01-12T08:06:19.466561Z",
     "iopub.status.idle": "2024-01-12T08:06:19.473239Z",
     "shell.execute_reply": "2024-01-12T08:06:19.471537Z"
    },
    "papermill": {
     "duration": 0.01866,
     "end_time": "2024-01-12T08:06:19.475946",
     "exception": false,
     "start_time": "2024-01-12T08:06:19.457286",
     "status": "completed"
    },
    "tags": []
   },
   "outputs": [],
   "source": [
    "#q2.hint()\n",
    "#q2.solution()"
   ]
  },
  {
   "cell_type": "markdown",
   "id": "c36df653",
   "metadata": {
    "papermill": {
     "duration": 0.007287,
     "end_time": "2024-01-12T08:06:19.490940",
     "exception": false,
     "start_time": "2024-01-12T08:06:19.483653",
     "status": "completed"
    },
    "tags": []
   },
   "source": [
    "# 3.\n",
    "\n",
    "The next iteration of Mario Kart will feature an extra-infuriating new item, the *Purple Shell*. When used, it warps the last place racer into first place and the first place racer into last place. Complete the function below to implement the Purple Shell's effect."
   ]
  },
  {
   "cell_type": "code",
   "execution_count": 6,
   "id": "07af044c",
   "metadata": {
    "execution": {
     "iopub.execute_input": "2024-01-12T08:06:19.508072Z",
     "iopub.status.busy": "2024-01-12T08:06:19.507631Z",
     "iopub.status.idle": "2024-01-12T08:06:19.518313Z",
     "shell.execute_reply": "2024-01-12T08:06:19.517346Z"
    },
    "papermill": {
     "duration": 0.022315,
     "end_time": "2024-01-12T08:06:19.520778",
     "exception": false,
     "start_time": "2024-01-12T08:06:19.498463",
     "status": "completed"
    },
    "tags": []
   },
   "outputs": [
    {
     "data": {
      "application/javascript": [
       "parent.postMessage({\"jupyterEvent\": \"custom.exercise_interaction\", \"data\": {\"outcomeType\": 1, \"valueTowardsCompletion\": 0.2, \"interactionType\": 1, \"questionType\": 2, \"questionId\": \"3_PurpleShell\", \"learnToolsVersion\": \"0.3.4\", \"failureMessage\": \"\", \"exceptionClass\": \"\", \"trace\": \"\"}}, \"*\")"
      ],
      "text/plain": [
       "<IPython.core.display.Javascript object>"
      ]
     },
     "metadata": {},
     "output_type": "display_data"
    },
    {
     "data": {
      "text/markdown": [
       "<span style=\"color:#33cc33\">Correct</span>"
      ],
      "text/plain": [
       "Correct"
      ]
     },
     "metadata": {},
     "output_type": "display_data"
    }
   ],
   "source": [
    "def purple_shell(racers):\n",
    "    \"\"\"Given a list of racers, set the first place racer (at the front of the list) to last\n",
    "    place and vice versa.\n",
    "    \n",
    "    >>> r = [\"Mario\", \"Bowser\", \"Luigi\"]\n",
    "    >>> purple_shell(r)\n",
    "    >>> r\n",
    "    [\"Luigi\", \"Bowser\", \"Mario\"]\n",
    "    \"\"\"\n",
    "    racers[0], racers[-1] = racers[-1], racers[0]\n",
    "    pass\n",
    "\n",
    "# Check your answer\n",
    "q3.check()"
   ]
  },
  {
   "cell_type": "code",
   "execution_count": 7,
   "id": "1c6459e2",
   "metadata": {
    "execution": {
     "iopub.execute_input": "2024-01-12T08:06:19.539156Z",
     "iopub.status.busy": "2024-01-12T08:06:19.538700Z",
     "iopub.status.idle": "2024-01-12T08:06:19.543820Z",
     "shell.execute_reply": "2024-01-12T08:06:19.542576Z"
    },
    "papermill": {
     "duration": 0.017736,
     "end_time": "2024-01-12T08:06:19.546578",
     "exception": false,
     "start_time": "2024-01-12T08:06:19.528842",
     "status": "completed"
    },
    "tags": []
   },
   "outputs": [],
   "source": [
    "#q3.hint()\n",
    "#q3.solution()"
   ]
  },
  {
   "cell_type": "markdown",
   "id": "c845d9e2",
   "metadata": {
    "papermill": {
     "duration": 0.007686,
     "end_time": "2024-01-12T08:06:19.562346",
     "exception": false,
     "start_time": "2024-01-12T08:06:19.554660",
     "status": "completed"
    },
    "tags": []
   },
   "source": [
    "# 4.\n",
    "\n",
    "What are the lengths of the following lists? Fill in the variable `lengths` with your predictions. (Try to make a prediction for each list *without* just calling `len()` on it.)"
   ]
  },
  {
   "cell_type": "code",
   "execution_count": 8,
   "id": "cd95b8f8",
   "metadata": {
    "execution": {
     "iopub.execute_input": "2024-01-12T08:06:19.581201Z",
     "iopub.status.busy": "2024-01-12T08:06:19.580765Z",
     "iopub.status.idle": "2024-01-12T08:06:19.591451Z",
     "shell.execute_reply": "2024-01-12T08:06:19.590055Z"
    },
    "papermill": {
     "duration": 0.023846,
     "end_time": "2024-01-12T08:06:19.594267",
     "exception": false,
     "start_time": "2024-01-12T08:06:19.570421",
     "status": "completed"
    },
    "tags": []
   },
   "outputs": [
    {
     "data": {
      "application/javascript": [
       "parent.postMessage({\"jupyterEvent\": \"custom.exercise_interaction\", \"data\": {\"outcomeType\": 1, \"valueTowardsCompletion\": 0.2, \"interactionType\": 1, \"questionType\": 1, \"questionId\": \"4_UnderstandLen\", \"learnToolsVersion\": \"0.3.4\", \"failureMessage\": \"\", \"exceptionClass\": \"\", \"trace\": \"\"}}, \"*\")"
      ],
      "text/plain": [
       "<IPython.core.display.Javascript object>"
      ]
     },
     "metadata": {},
     "output_type": "display_data"
    },
    {
     "data": {
      "text/markdown": [
       "<span style=\"color:#33cc33\">Correct:</span> \n",
       "\n",
       "\n",
       "- a: There are three items in this list. Nothing tricky yet.\n",
       "- b: The list `[2, 3]` counts as a single item. It has one item before it. So we have 2 items in the list\n",
       "- c: The empty list has 0 items\n",
       "- d: The expression is the same as the list `[2, 3]`, which has length 2."
      ],
      "text/plain": [
       "Correct: \n",
       "\n",
       "\n",
       "- a: There are three items in this list. Nothing tricky yet.\n",
       "- b: The list `[2, 3]` counts as a single item. It has one item before it. So we have 2 items in the list\n",
       "- c: The empty list has 0 items\n",
       "- d: The expression is the same as the list `[2, 3]`, which has length 2."
      ]
     },
     "metadata": {},
     "output_type": "display_data"
    }
   ],
   "source": [
    "a = [1, 2, 3]\n",
    "b = [1, [2, 3]]\n",
    "c = []\n",
    "d = [1, 2, 3][1:]\n",
    "\n",
    "# Put your predictions in the list below. Lengths should contain 4 numbers, the\n",
    "# first being the length of a, the second being the length of b and so on.\n",
    "lengths = [3,2,0,2]\n",
    "\n",
    "# Check your answer\n",
    "q4.check()"
   ]
  },
  {
   "cell_type": "code",
   "execution_count": 9,
   "id": "04fc7112",
   "metadata": {
    "execution": {
     "iopub.execute_input": "2024-01-12T08:06:19.612979Z",
     "iopub.status.busy": "2024-01-12T08:06:19.612533Z",
     "iopub.status.idle": "2024-01-12T08:06:19.617532Z",
     "shell.execute_reply": "2024-01-12T08:06:19.616315Z"
    },
    "papermill": {
     "duration": 0.018059,
     "end_time": "2024-01-12T08:06:19.620627",
     "exception": false,
     "start_time": "2024-01-12T08:06:19.602568",
     "status": "completed"
    },
    "tags": []
   },
   "outputs": [],
   "source": [
    "# line below provides some explanation\n",
    "#q4.solution()"
   ]
  },
  {
   "cell_type": "markdown",
   "id": "23ea1fab",
   "metadata": {
    "papermill": {
     "duration": 0.007885,
     "end_time": "2024-01-12T08:06:19.637082",
     "exception": false,
     "start_time": "2024-01-12T08:06:19.629197",
     "status": "completed"
    },
    "tags": []
   },
   "source": [
    "# 5. <span title=\"A bit spicy\" style=\"color: darkgreen \">🌶️</span>\n",
    "\n",
    "We're using lists to record people who attended our party and what order they arrived in. For example, the following list represents a party with 7 guests, in which Adela showed up first and Ford was the last to arrive:\n",
    "\n",
    "    party_attendees = ['Adela', 'Fleda', 'Owen', 'May', 'Mona', 'Gilbert', 'Ford']\n",
    "\n",
    "A guest is considered 'fashionably late' if they arrived after at least half of the party's guests. However, they must not be the very last guest (that's taking it too far). In the above example, Mona and Gilbert are the only guests who were fashionably late.\n",
    "\n",
    "Complete the function below which takes a list of party attendees as well as a person, and tells us whether that person is fashionably late."
   ]
  },
  {
   "cell_type": "code",
   "execution_count": 10,
   "id": "2ba60c8c",
   "metadata": {
    "execution": {
     "iopub.execute_input": "2024-01-12T08:06:19.656237Z",
     "iopub.status.busy": "2024-01-12T08:06:19.655370Z",
     "iopub.status.idle": "2024-01-12T08:06:19.666594Z",
     "shell.execute_reply": "2024-01-12T08:06:19.665257Z"
    },
    "papermill": {
     "duration": 0.023648,
     "end_time": "2024-01-12T08:06:19.668974",
     "exception": false,
     "start_time": "2024-01-12T08:06:19.645326",
     "status": "completed"
    },
    "tags": []
   },
   "outputs": [
    {
     "data": {
      "application/javascript": [
       "parent.postMessage({\"jupyterEvent\": \"custom.exercise_interaction\", \"data\": {\"outcomeType\": 1, \"valueTowardsCompletion\": 0.2, \"interactionType\": 1, \"questionType\": 2, \"questionId\": \"5_FashionablyLate\", \"learnToolsVersion\": \"0.3.4\", \"failureMessage\": \"\", \"exceptionClass\": \"\", \"trace\": \"\"}}, \"*\")"
      ],
      "text/plain": [
       "<IPython.core.display.Javascript object>"
      ]
     },
     "metadata": {},
     "output_type": "display_data"
    },
    {
     "data": {
      "text/markdown": [
       "<span style=\"color:#33cc33\">Correct</span>"
      ],
      "text/plain": [
       "Correct"
      ]
     },
     "metadata": {},
     "output_type": "display_data"
    }
   ],
   "source": [
    "def fashionably_late(arrivals, name):\n",
    "    \"\"\"Given an ordered list of arrivals to the party and a name, return whether the guest with that\n",
    "    name was fashionably late.\n",
    "    \"\"\"\n",
    "    order = arrivals.index(name)\n",
    "    return order >= len(arrivals)/2 and order < len(arrivals)-1\n",
    "    pass\n",
    "\n",
    "# Check your answer\n",
    "q5.check()"
   ]
  },
  {
   "cell_type": "code",
   "execution_count": 11,
   "id": "7aa0dab6",
   "metadata": {
    "execution": {
     "iopub.execute_input": "2024-01-12T08:06:19.688062Z",
     "iopub.status.busy": "2024-01-12T08:06:19.687679Z",
     "iopub.status.idle": "2024-01-12T08:06:19.701827Z",
     "shell.execute_reply": "2024-01-12T08:06:19.700920Z"
    },
    "papermill": {
     "duration": 0.026426,
     "end_time": "2024-01-12T08:06:19.703917",
     "exception": false,
     "start_time": "2024-01-12T08:06:19.677491",
     "status": "completed"
    },
    "tags": []
   },
   "outputs": [
    {
     "data": {
      "application/javascript": [
       "parent.postMessage({\"jupyterEvent\": \"custom.exercise_interaction\", \"data\": {\"interactionType\": 2, \"questionType\": 2, \"questionId\": \"5_FashionablyLate\", \"learnToolsVersion\": \"0.3.4\", \"valueTowardsCompletion\": 0.0, \"failureMessage\": \"\", \"exceptionClass\": \"\", \"trace\": \"\", \"outcomeType\": 4}}, \"*\")"
      ],
      "text/plain": [
       "<IPython.core.display.Javascript object>"
      ]
     },
     "metadata": {},
     "output_type": "display_data"
    },
    {
     "data": {
      "text/markdown": [
       "<span style=\"color:#3366cc\">Hint:</span> Use the index method to find when the person arrived. Check whether that is a fashionably late spot given the list length (`len`). Think about 0-indexing"
      ],
      "text/plain": [
       "Hint: Use the index method to find when the person arrived. Check whether that is a fashionably late spot given the list length (`len`). Think about 0-indexing"
      ]
     },
     "metadata": {},
     "output_type": "display_data"
    },
    {
     "data": {
      "application/javascript": [
       "parent.postMessage({\"jupyterEvent\": \"custom.exercise_interaction\", \"data\": {\"interactionType\": 3, \"questionType\": 2, \"questionId\": \"5_FashionablyLate\", \"learnToolsVersion\": \"0.3.4\", \"valueTowardsCompletion\": 0.0, \"failureMessage\": \"\", \"exceptionClass\": \"\", \"trace\": \"\", \"outcomeType\": 4}}, \"*\")"
      ],
      "text/plain": [
       "<IPython.core.display.Javascript object>"
      ]
     },
     "metadata": {},
     "output_type": "display_data"
    },
    {
     "data": {
      "text/markdown": [
       "<span style=\"color:#33cc99\">Solution:</span> \n",
       "```python\n",
       "def fashionably_late(arrivals, name):\n",
       "    order = arrivals.index(name)\n",
       "    return order >= len(arrivals) / 2 and order != len(arrivals) - 1\n",
       "```"
      ],
      "text/plain": [
       "Solution: \n",
       "```python\n",
       "def fashionably_late(arrivals, name):\n",
       "    order = arrivals.index(name)\n",
       "    return order >= len(arrivals) / 2 and order != len(arrivals) - 1\n",
       "```"
      ]
     },
     "metadata": {},
     "output_type": "display_data"
    }
   ],
   "source": [
    "q5.hint()\n",
    "q5.solution()"
   ]
  },
  {
   "cell_type": "markdown",
   "id": "b27d6380",
   "metadata": {
    "papermill": {
     "duration": 0.008737,
     "end_time": "2024-01-12T08:06:19.721669",
     "exception": false,
     "start_time": "2024-01-12T08:06:19.712932",
     "status": "completed"
    },
    "tags": []
   },
   "source": [
    "# Keep Going\n",
    "\n",
    "That's it for lists and tuples! Now you have the baseline knowledge to **[learn about loops](https://www.kaggle.com/colinmorris/loops-and-list-comprehensions)**, which is where lists and tuples get really interesting. "
   ]
  },
  {
   "cell_type": "markdown",
   "id": "2531fd80",
   "metadata": {
    "papermill": {
     "duration": 0.008624,
     "end_time": "2024-01-12T08:06:19.739312",
     "exception": false,
     "start_time": "2024-01-12T08:06:19.730688",
     "status": "completed"
    },
    "tags": []
   },
   "source": [
    "---\n",
    "\n",
    "\n",
    "\n",
    "\n",
    "*Have questions or comments? Visit the [course discussion forum](https://www.kaggle.com/learn/python/discussion) to chat with other learners.*"
   ]
  }
 ],
 "metadata": {
  "kaggle": {
   "accelerator": "none",
   "dataSources": [],
   "isGpuEnabled": false,
   "isInternetEnabled": false,
   "language": "python",
   "sourceType": "notebook"
  },
  "kernelspec": {
   "display_name": "Python 3",
   "language": "python",
   "name": "python3"
  },
  "language_info": {
   "codemirror_mode": {
    "name": "ipython",
    "version": 3
   },
   "file_extension": ".py",
   "mimetype": "text/x-python",
   "name": "python",
   "nbconvert_exporter": "python",
   "pygments_lexer": "ipython3",
   "version": "3.10.12"
  },
  "learntools_metadata": {
   "lesson_index": 3,
   "type": "exercise"
  },
  "papermill": {
   "default_parameters": {},
   "duration": 5.385998,
   "end_time": "2024-01-12T08:06:20.370943",
   "environment_variables": {},
   "exception": null,
   "input_path": "__notebook__.ipynb",
   "output_path": "__notebook__.ipynb",
   "parameters": {},
   "start_time": "2024-01-12T08:06:14.984945",
   "version": "2.4.0"
  }
 },
 "nbformat": 4,
 "nbformat_minor": 5
}
