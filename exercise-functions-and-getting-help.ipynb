{
 "cells": [
  {
   "cell_type": "markdown",
   "id": "ecccc244",
   "metadata": {
    "papermill": {
     "duration": 0.007263,
     "end_time": "2024-01-11T09:07:00.299709",
     "exception": false,
     "start_time": "2024-01-11T09:07:00.292446",
     "status": "completed"
    },
    "tags": []
   },
   "source": [
    "**This notebook is an exercise in the [Python](https://www.kaggle.com/learn/python) course.  You can reference the tutorial at [this link](https://www.kaggle.com/colinmorris/functions-and-getting-help).**\n",
    "\n",
    "---\n"
   ]
  },
  {
   "cell_type": "markdown",
   "id": "bd0f5123",
   "metadata": {
    "papermill": {
     "duration": 0.00627,
     "end_time": "2024-01-11T09:07:00.312845",
     "exception": false,
     "start_time": "2024-01-11T09:07:00.306575",
     "status": "completed"
    },
    "tags": []
   },
   "source": [
    "Functions are powerful. Try writing some yourself.\n",
    "\n",
    "As before, don't forget to run the setup code below before jumping into question 1."
   ]
  },
  {
   "cell_type": "code",
   "execution_count": 1,
   "id": "5b945313",
   "metadata": {
    "_kg_hide-input": true,
    "_kg_hide-output": true,
    "execution": {
     "iopub.execute_input": "2024-01-11T09:07:00.328774Z",
     "iopub.status.busy": "2024-01-11T09:07:00.327941Z",
     "iopub.status.idle": "2024-01-11T09:07:01.223894Z",
     "shell.execute_reply": "2024-01-11T09:07:01.221491Z"
    },
    "papermill": {
     "duration": 0.907424,
     "end_time": "2024-01-11T09:07:01.226886",
     "exception": false,
     "start_time": "2024-01-11T09:07:00.319462",
     "status": "completed"
    },
    "tags": []
   },
   "outputs": [
    {
     "name": "stdout",
     "output_type": "stream",
     "text": [
      "Setup complete.\n"
     ]
    }
   ],
   "source": [
    "# SETUP. You don't need to worry for now about what this code does or how it works.\n",
    "from learntools.core import binder; binder.bind(globals())\n",
    "from learntools.python.ex2 import *\n",
    "print('Setup complete.')"
   ]
  },
  {
   "cell_type": "markdown",
   "id": "380e0a9e",
   "metadata": {
    "papermill": {
     "duration": 0.006652,
     "end_time": "2024-01-11T09:07:01.240641",
     "exception": false,
     "start_time": "2024-01-11T09:07:01.233989",
     "status": "completed"
    },
    "tags": []
   },
   "source": [
    "# 1.\n",
    "\n",
    "Complete the body of the following function according to its docstring.\n",
    "\n",
    "HINT: Python has a built-in function `round`."
   ]
  },
  {
   "cell_type": "code",
   "execution_count": 2,
   "id": "5727f368",
   "metadata": {
    "execution": {
     "iopub.execute_input": "2024-01-11T09:07:01.257305Z",
     "iopub.status.busy": "2024-01-11T09:07:01.256665Z",
     "iopub.status.idle": "2024-01-11T09:07:01.269358Z",
     "shell.execute_reply": "2024-01-11T09:07:01.268222Z"
    },
    "papermill": {
     "duration": 0.024204,
     "end_time": "2024-01-11T09:07:01.271897",
     "exception": false,
     "start_time": "2024-01-11T09:07:01.247693",
     "status": "completed"
    },
    "tags": []
   },
   "outputs": [
    {
     "data": {
      "application/javascript": [
       "parent.postMessage({\"jupyterEvent\": \"custom.exercise_interaction\", \"data\": {\"outcomeType\": 1, \"valueTowardsCompletion\": 0.16666666666666666, \"interactionType\": 1, \"questionType\": 2, \"questionId\": \"1_RoundFunctionProblem\", \"learnToolsVersion\": \"0.3.4\", \"failureMessage\": \"\", \"exceptionClass\": \"\", \"trace\": \"\"}}, \"*\")"
      ],
      "text/plain": [
       "<IPython.core.display.Javascript object>"
      ]
     },
     "metadata": {},
     "output_type": "display_data"
    },
    {
     "data": {
      "text/markdown": [
       "<span style=\"color:#33cc33\">Correct</span>"
      ],
      "text/plain": [
       "Correct"
      ]
     },
     "metadata": {},
     "output_type": "display_data"
    }
   ],
   "source": [
    "def round_to_two_places(num):\n",
    "    \"\"\"Return the given number rounded to two decimal places. \n",
    "    >>> round_to_two_places(3.14159)\n",
    "    3.14\n",
    "    \"\"\"\n",
    "    round_num = round(num,2)\n",
    "    return round_num\n",
    "    # Replace this body with your own code.\n",
    "    # (\"pass\" is a keyword that does literally nothing. We used it as a placeholder\n",
    "    # because after we begin a code block, Python requires at least one line of code)\n",
    "    pass\n",
    "\n",
    "# Check your answer\n",
    "q1.check()"
   ]
  },
  {
   "cell_type": "code",
   "execution_count": 3,
   "id": "626b964a",
   "metadata": {
    "execution": {
     "iopub.execute_input": "2024-01-11T09:07:01.289234Z",
     "iopub.status.busy": "2024-01-11T09:07:01.288710Z",
     "iopub.status.idle": "2024-01-11T09:07:01.295362Z",
     "shell.execute_reply": "2024-01-11T09:07:01.294114Z"
    },
    "papermill": {
     "duration": 0.01849,
     "end_time": "2024-01-11T09:07:01.297905",
     "exception": false,
     "start_time": "2024-01-11T09:07:01.279415",
     "status": "completed"
    },
    "tags": []
   },
   "outputs": [
    {
     "name": "stdout",
     "output_type": "stream",
     "text": [
      "Help on built-in function print in module builtins:\n",
      "\n",
      "print(...)\n",
      "    print(value, ..., sep=' ', end='\\n', file=sys.stdout, flush=False)\n",
      "    \n",
      "    Prints the values to a stream, or to sys.stdout by default.\n",
      "    Optional keyword arguments:\n",
      "    file:  a file-like object (stream); defaults to the current sys.stdout.\n",
      "    sep:   string inserted between values, default a space.\n",
      "    end:   string appended after the last value, default a newline.\n",
      "    flush: whether to forcibly flush the stream.\n",
      "\n"
     ]
    }
   ],
   "source": [
    "help(print)"
   ]
  },
  {
   "cell_type": "code",
   "execution_count": 4,
   "id": "aae209ca",
   "metadata": {
    "execution": {
     "iopub.execute_input": "2024-01-11T09:07:01.314942Z",
     "iopub.status.busy": "2024-01-11T09:07:01.314193Z",
     "iopub.status.idle": "2024-01-11T09:07:01.319959Z",
     "shell.execute_reply": "2024-01-11T09:07:01.318807Z"
    },
    "papermill": {
     "duration": 0.017367,
     "end_time": "2024-01-11T09:07:01.322609",
     "exception": false,
     "start_time": "2024-01-11T09:07:01.305242",
     "status": "completed"
    },
    "tags": []
   },
   "outputs": [],
   "source": [
    "# Uncomment the following for a hint\n",
    "#q1.hint()\n",
    "# Or uncomment the following to peek at the solution\n",
    "#q1.solution()"
   ]
  },
  {
   "cell_type": "markdown",
   "id": "63b688e7",
   "metadata": {
    "papermill": {
     "duration": 0.007007,
     "end_time": "2024-01-11T09:07:01.337120",
     "exception": false,
     "start_time": "2024-01-11T09:07:01.330113",
     "status": "completed"
    },
    "tags": []
   },
   "source": [
    "# 2.\n",
    "The help for `round` says that `ndigits` (the second argument) may be negative.\n",
    "What do you think will happen when it is? Try some examples in the following cell."
   ]
  },
  {
   "cell_type": "code",
   "execution_count": 5,
   "id": "6d56e195",
   "metadata": {
    "execution": {
     "iopub.execute_input": "2024-01-11T09:07:01.354242Z",
     "iopub.status.busy": "2024-01-11T09:07:01.353732Z",
     "iopub.status.idle": "2024-01-11T09:07:01.361406Z",
     "shell.execute_reply": "2024-01-11T09:07:01.360320Z"
    },
    "papermill": {
     "duration": 0.019413,
     "end_time": "2024-01-11T09:07:01.363891",
     "exception": false,
     "start_time": "2024-01-11T09:07:01.344478",
     "status": "completed"
    },
    "tags": []
   },
   "outputs": [
    {
     "data": {
      "text/plain": [
       "100.0"
      ]
     },
     "execution_count": 5,
     "metadata": {},
     "output_type": "execute_result"
    }
   ],
   "source": [
    "# Put your test code here\n",
    "round(100.9562563,-2)"
   ]
  },
  {
   "cell_type": "markdown",
   "id": "b9e83eb3",
   "metadata": {
    "papermill": {
     "duration": 0.00709,
     "end_time": "2024-01-11T09:07:01.378483",
     "exception": false,
     "start_time": "2024-01-11T09:07:01.371393",
     "status": "completed"
    },
    "tags": []
   },
   "source": [
    "Can you think of a case where this would be useful?  Once you're ready, run the code cell below to see the answer and to receive credit for completing the problem."
   ]
  },
  {
   "cell_type": "code",
   "execution_count": 6,
   "id": "67676360",
   "metadata": {
    "execution": {
     "iopub.execute_input": "2024-01-11T09:07:01.396056Z",
     "iopub.status.busy": "2024-01-11T09:07:01.395077Z",
     "iopub.status.idle": "2024-01-11T09:07:01.406150Z",
     "shell.execute_reply": "2024-01-11T09:07:01.404872Z"
    },
    "papermill": {
     "duration": 0.022524,
     "end_time": "2024-01-11T09:07:01.408597",
     "exception": false,
     "start_time": "2024-01-11T09:07:01.386073",
     "status": "completed"
    },
    "tags": []
   },
   "outputs": [
    {
     "data": {
      "application/javascript": [
       "parent.postMessage({\"jupyterEvent\": \"custom.exercise_interaction\", \"data\": {\"interactionType\": 3, \"questionType\": 4, \"questionId\": \"2_RoundNdigitsProblem\", \"learnToolsVersion\": \"0.3.4\", \"valueTowardsCompletion\": 0.0, \"failureMessage\": \"\", \"exceptionClass\": \"\", \"trace\": \"\", \"outcomeType\": 4}}, \"*\")"
      ],
      "text/plain": [
       "<IPython.core.display.Javascript object>"
      ]
     },
     "metadata": {},
     "output_type": "display_data"
    },
    {
     "data": {
      "text/markdown": [
       "<span style=\"color:#33cc99\">Solution:</span> As you've seen, `ndigits=-1` rounds to the nearest 10, `ndigits=-2` rounds to the nearest 100 and so on. Where might this be useful? Suppose we're dealing with large numbers:\n",
       "\n",
       "> The area of Finland is 338,424 km²  \n",
       "> The area of Greenland is 2,166,086 km²\n",
       "\n",
       "We probably don't care whether it's really 338,424, or 338,425, or 338,177. All those digits of accuracy are just distracting. We can chop them off by calling `round()` with `ndigits=-3`:\n",
       "\n",
       "> The area of Finland is 338,000 km²  \n",
       "> The area of Greenland is 2,166,000 km²\n",
       "\n",
       "(We'll talk about how we would get the commas later when we talk about string formatting :))\n"
      ],
      "text/plain": [
       "Solution: As you've seen, `ndigits=-1` rounds to the nearest 10, `ndigits=-2` rounds to the nearest 100 and so on. Where might this be useful? Suppose we're dealing with large numbers:\n",
       "\n",
       "> The area of Finland is 338,424 km²  \n",
       "> The area of Greenland is 2,166,086 km²\n",
       "\n",
       "We probably don't care whether it's really 338,424, or 338,425, or 338,177. All those digits of accuracy are just distracting. We can chop them off by calling `round()` with `ndigits=-3`:\n",
       "\n",
       "> The area of Finland is 338,000 km²  \n",
       "> The area of Greenland is 2,166,000 km²\n",
       "\n",
       "(We'll talk about how we would get the commas later when we talk about string formatting :))"
      ]
     },
     "metadata": {},
     "output_type": "display_data"
    }
   ],
   "source": [
    "# Check your answer (Run this code cell to receive credit!)\n",
    "q2.solution()"
   ]
  },
  {
   "cell_type": "markdown",
   "id": "c82e680e",
   "metadata": {
    "papermill": {
     "duration": 0.007601,
     "end_time": "2024-01-11T09:07:01.424016",
     "exception": false,
     "start_time": "2024-01-11T09:07:01.416415",
     "status": "completed"
    },
    "tags": []
   },
   "source": [
    "# 3.\n",
    "\n",
    "In the previous exercise, the candy-sharing friends Alice, Bob and Carol tried to split candies evenly. For the sake of their friendship, any candies left over would be smashed. For example, if they collectively bring home 91 candies, they'll take 30 each and smash 1.\n",
    "\n",
    "Below is a simple function that will calculate the number of candies to smash for *any* number of total candies.\n",
    "\n",
    "Modify it so that it optionally takes a second argument representing the number of friends the candies are being split between. If no second argument is provided, it should assume 3 friends, as before.\n",
    "\n",
    "Update the docstring to reflect this new behaviour."
   ]
  },
  {
   "cell_type": "code",
   "execution_count": 7,
   "id": "189502ab",
   "metadata": {
    "execution": {
     "iopub.execute_input": "2024-01-11T09:07:01.441953Z",
     "iopub.status.busy": "2024-01-11T09:07:01.441483Z",
     "iopub.status.idle": "2024-01-11T09:07:01.452411Z",
     "shell.execute_reply": "2024-01-11T09:07:01.451201Z"
    },
    "papermill": {
     "duration": 0.022983,
     "end_time": "2024-01-11T09:07:01.454948",
     "exception": false,
     "start_time": "2024-01-11T09:07:01.431965",
     "status": "completed"
    },
    "tags": []
   },
   "outputs": [
    {
     "data": {
      "application/javascript": [
       "parent.postMessage({\"jupyterEvent\": \"custom.exercise_interaction\", \"data\": {\"outcomeType\": 1, \"valueTowardsCompletion\": 0.16666666666666666, \"interactionType\": 1, \"questionType\": 2, \"questionId\": \"3_CandySmashingFunctionProblem\", \"learnToolsVersion\": \"0.3.4\", \"failureMessage\": \"\", \"exceptionClass\": \"\", \"trace\": \"\"}}, \"*\")"
      ],
      "text/plain": [
       "<IPython.core.display.Javascript object>"
      ]
     },
     "metadata": {},
     "output_type": "display_data"
    },
    {
     "data": {
      "text/markdown": [
       "<span style=\"color:#33cc33\">Correct</span>"
      ],
      "text/plain": [
       "Correct"
      ]
     },
     "metadata": {},
     "output_type": "display_data"
    }
   ],
   "source": [
    "def to_smash(total_candies, n=3):\n",
    "    \"\"\"Return the number of leftover candies that must be smashed after distributing\n",
    "    the given number of candies evenly between 3 friends.\n",
    "    >>> to_smash(91)\n",
    "    1\n",
    "    \"\"\"\n",
    "    return total_candies % n\n",
    "\n",
    "# Check your answer\n",
    "q3.check()"
   ]
  },
  {
   "cell_type": "code",
   "execution_count": 8,
   "id": "2725ec42",
   "metadata": {
    "execution": {
     "iopub.execute_input": "2024-01-11T09:07:01.474332Z",
     "iopub.status.busy": "2024-01-11T09:07:01.473867Z",
     "iopub.status.idle": "2024-01-11T09:07:01.479546Z",
     "shell.execute_reply": "2024-01-11T09:07:01.478197Z"
    },
    "papermill": {
     "duration": 0.018392,
     "end_time": "2024-01-11T09:07:01.482366",
     "exception": false,
     "start_time": "2024-01-11T09:07:01.463974",
     "status": "completed"
    },
    "tags": []
   },
   "outputs": [],
   "source": [
    "#q3.hint()"
   ]
  },
  {
   "cell_type": "code",
   "execution_count": 9,
   "id": "be397e56",
   "metadata": {
    "execution": {
     "iopub.execute_input": "2024-01-11T09:07:01.501640Z",
     "iopub.status.busy": "2024-01-11T09:07:01.501236Z",
     "iopub.status.idle": "2024-01-11T09:07:01.506660Z",
     "shell.execute_reply": "2024-01-11T09:07:01.505449Z"
    },
    "papermill": {
     "duration": 0.018198,
     "end_time": "2024-01-11T09:07:01.509147",
     "exception": false,
     "start_time": "2024-01-11T09:07:01.490949",
     "status": "completed"
    },
    "tags": []
   },
   "outputs": [],
   "source": [
    "#q3.solution()"
   ]
  },
  {
   "cell_type": "markdown",
   "id": "b62e9ebc",
   "metadata": {
    "papermill": {
     "duration": 0.008006,
     "end_time": "2024-01-11T09:07:01.525531",
     "exception": false,
     "start_time": "2024-01-11T09:07:01.517525",
     "status": "completed"
    },
    "tags": []
   },
   "source": [
    "# 4. (Optional)\n",
    "\n",
    "It may not be fun, but reading and understanding error messages will be an important part of your Python career.\n",
    "\n",
    "Each code cell below contains some commented buggy code. For each cell...\n",
    "\n",
    "1. Read the code and predict what you think will happen when it's run.\n",
    "2. Then uncomment the code and run it to see what happens. (**Tip**: In the kernel editor, you can highlight several lines and press `ctrl`+`/` to toggle commenting.)\n",
    "3. Fix the code (so that it accomplishes its intended purpose without throwing an exception)\n",
    "\n",
    "<!-- TODO: should this be autochecked? Delta is probably pretty small. -->"
   ]
  },
  {
   "cell_type": "code",
   "execution_count": 10,
   "id": "2afc7fe7",
   "metadata": {
    "execution": {
     "iopub.execute_input": "2024-01-11T09:07:01.544019Z",
     "iopub.status.busy": "2024-01-11T09:07:01.543633Z",
     "iopub.status.idle": "2024-01-11T09:07:01.551554Z",
     "shell.execute_reply": "2024-01-11T09:07:01.550228Z"
    },
    "papermill": {
     "duration": 0.020161,
     "end_time": "2024-01-11T09:07:01.553996",
     "exception": false,
     "start_time": "2024-01-11T09:07:01.533835",
     "status": "completed"
    },
    "tags": []
   },
   "outputs": [
    {
     "data": {
      "text/plain": [
       "10.0"
      ]
     },
     "execution_count": 10,
     "metadata": {},
     "output_type": "execute_result"
    }
   ],
   "source": [
    "round_to_two_places(9.9999)"
   ]
  },
  {
   "cell_type": "code",
   "execution_count": 11,
   "id": "af7b1683",
   "metadata": {
    "execution": {
     "iopub.execute_input": "2024-01-11T09:07:01.574860Z",
     "iopub.status.busy": "2024-01-11T09:07:01.573371Z",
     "iopub.status.idle": "2024-01-11T09:07:01.581235Z",
     "shell.execute_reply": "2024-01-11T09:07:01.579958Z"
    },
    "papermill": {
     "duration": 0.020439,
     "end_time": "2024-01-11T09:07:01.583782",
     "exception": false,
     "start_time": "2024-01-11T09:07:01.563343",
     "status": "completed"
    },
    "tags": []
   },
   "outputs": [
    {
     "name": "stdout",
     "output_type": "stream",
     "text": [
      "5\n"
     ]
    }
   ],
   "source": [
    "# x = -10\n",
    "# y = 5\n",
    "# # Which of the two variables above has the smallest absolute value?\n",
    "# smallest_abs = min(abs(x, y))\n",
    "\n",
    "x = -10\n",
    "y = 5\n",
    "# Which of the two variables above has the smallest absolute value?\n",
    "smallest_abs = min(abs(x), abs(y))\n",
    "print(smallest_abs)"
   ]
  },
  {
   "cell_type": "code",
   "execution_count": 12,
   "id": "37de6f1a",
   "metadata": {
    "execution": {
     "iopub.execute_input": "2024-01-11T09:07:01.603484Z",
     "iopub.status.busy": "2024-01-11T09:07:01.603067Z",
     "iopub.status.idle": "2024-01-11T09:07:01.609976Z",
     "shell.execute_reply": "2024-01-11T09:07:01.608583Z"
    },
    "papermill": {
     "duration": 0.02015,
     "end_time": "2024-01-11T09:07:01.612916",
     "exception": false,
     "start_time": "2024-01-11T09:07:01.592766",
     "status": "completed"
    },
    "tags": []
   },
   "outputs": [
    {
     "name": "stdout",
     "output_type": "stream",
     "text": [
      "5\n"
     ]
    }
   ],
   "source": [
    "def f(x):\n",
    "    y = abs(x)\n",
    "    return y\n",
    "\n",
    "print(f(5))"
   ]
  },
  {
   "cell_type": "markdown",
   "id": "4ac33c9a",
   "metadata": {
    "papermill": {
     "duration": 0.009232,
     "end_time": "2024-01-11T09:07:01.631517",
     "exception": false,
     "start_time": "2024-01-11T09:07:01.622285",
     "status": "completed"
    },
    "tags": []
   },
   "source": [
    "# Keep Going\n",
    "\n",
    "Nice job with the code. Next up, you'll learn about *conditionals*, which you'll need to **[write interesting programs](https://www.kaggle.com/colinmorris/booleans-and-conditionals)**. "
   ]
  },
  {
   "cell_type": "markdown",
   "id": "22e8d230",
   "metadata": {
    "papermill": {
     "duration": 0.008351,
     "end_time": "2024-01-11T09:07:01.650005",
     "exception": false,
     "start_time": "2024-01-11T09:07:01.641654",
     "status": "completed"
    },
    "tags": []
   },
   "source": [
    "---\n",
    "\n",
    "\n",
    "\n",
    "\n",
    "*Have questions or comments? Visit the [course discussion forum](https://www.kaggle.com/learn/python/discussion) to chat with other learners.*"
   ]
  }
 ],
 "metadata": {
  "kaggle": {
   "accelerator": "none",
   "dataSources": [],
   "isGpuEnabled": false,
   "isInternetEnabled": false,
   "language": "python",
   "sourceType": "notebook"
  },
  "kernelspec": {
   "display_name": "Python 3",
   "language": "python",
   "name": "python3"
  },
  "language_info": {
   "codemirror_mode": {
    "name": "ipython",
    "version": 3
   },
   "file_extension": ".py",
   "mimetype": "text/x-python",
   "name": "python",
   "nbconvert_exporter": "python",
   "pygments_lexer": "ipython3",
   "version": "3.10.12"
  },
  "learntools_metadata": {
   "lesson_index": 1,
   "type": "exercise"
  },
  "papermill": {
   "default_parameters": {},
   "duration": 6.547908,
   "end_time": "2024-01-11T09:07:02.181605",
   "environment_variables": {},
   "exception": null,
   "input_path": "__notebook__.ipynb",
   "output_path": "__notebook__.ipynb",
   "parameters": {},
   "start_time": "2024-01-11T09:06:55.633697",
   "version": "2.4.0"
  }
 },
 "nbformat": 4,
 "nbformat_minor": 5
}
