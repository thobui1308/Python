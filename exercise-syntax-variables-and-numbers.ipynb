{
 "cells": [
  {
   "cell_type": "markdown",
   "id": "3a387af6",
   "metadata": {
    "papermill": {
     "duration": 0.005677,
     "end_time": "2024-01-11T06:47:17.347583",
     "exception": false,
     "start_time": "2024-01-11T06:47:17.341906",
     "status": "completed"
    },
    "tags": []
   },
   "source": [
    "**This notebook is an exercise in the [Python](https://www.kaggle.com/learn/python) course.  You can reference the tutorial at [this link](https://www.kaggle.com/colinmorris/hello-python).**\n",
    "\n",
    "---\n"
   ]
  },
  {
   "cell_type": "markdown",
   "id": "224b5ffe",
   "metadata": {
    "papermill": {
     "duration": 0.00498,
     "end_time": "2024-01-11T06:47:17.357778",
     "exception": false,
     "start_time": "2024-01-11T06:47:17.352798",
     "status": "completed"
    },
    "tags": []
   },
   "source": [
    "Welcome to your first set of Python coding problems.  If this is your first time using Kaggle Notebooks, welcome! \n",
    "\n",
    "Notebooks are composed of blocks (called \"cells\") of text and code. Each of these is editable, though you'll mainly be editing the code cells to answer some questions.\n",
    "\n",
    "To get started, try running the code cell below (by pressing the ► button, or clicking on the cell and pressing ctrl+enter on your keyboard)."
   ]
  },
  {
   "cell_type": "code",
   "execution_count": 1,
   "id": "45617787",
   "metadata": {
    "execution": {
     "iopub.execute_input": "2024-01-11T06:47:17.370081Z",
     "iopub.status.busy": "2024-01-11T06:47:17.369758Z",
     "iopub.status.idle": "2024-01-11T06:47:17.379220Z",
     "shell.execute_reply": "2024-01-11T06:47:17.378422Z"
    },
    "papermill": {
     "duration": 0.017705,
     "end_time": "2024-01-11T06:47:17.380596",
     "exception": false,
     "start_time": "2024-01-11T06:47:17.362891",
     "status": "completed"
    },
    "tags": []
   },
   "outputs": [
    {
     "name": "stdout",
     "output_type": "stream",
     "text": [
      "You've successfully run some Python code\n",
      "Congratulations!\n"
     ]
    }
   ],
   "source": [
    "print(\"You've successfully run some Python code\")\n",
    "print(\"Congratulations!\")"
   ]
  },
  {
   "cell_type": "markdown",
   "id": "708f9098",
   "metadata": {
    "papermill": {
     "duration": 0.004992,
     "end_time": "2024-01-11T06:47:17.390878",
     "exception": false,
     "start_time": "2024-01-11T06:47:17.385886",
     "status": "completed"
    },
    "tags": []
   },
   "source": [
    "Try adding another line of code in the cell above and re-running it. \n",
    "\n",
    "Now let's get a little fancier:  Add a new code cell by clicking on an existing code cell, hitting the escape key, and then hitting the `a` or `b` key.  The `a` key will add a cell above the current cell, and `b` adds a cell below.\n",
    "\n",
    "Great! Now you know how to use Notebooks.\n",
    "\n",
    "Each hands-on exercise starts by setting up our feedback and code checking mechanism. Run the code cell below to do that. Then you'll be ready to move on to question 0."
   ]
  },
  {
   "cell_type": "code",
   "execution_count": 2,
   "id": "1c3a9ff1",
   "metadata": {
    "_kg_hide-input": true,
    "_kg_hide-output": true,
    "execution": {
     "iopub.execute_input": "2024-01-11T06:47:17.402402Z",
     "iopub.status.busy": "2024-01-11T06:47:17.402008Z",
     "iopub.status.idle": "2024-01-11T06:47:17.688408Z",
     "shell.execute_reply": "2024-01-11T06:47:17.687458Z"
    },
    "papermill": {
     "duration": 0.293939,
     "end_time": "2024-01-11T06:47:17.690063",
     "exception": false,
     "start_time": "2024-01-11T06:47:17.396124",
     "status": "completed"
    },
    "tags": []
   },
   "outputs": [
    {
     "name": "stdout",
     "output_type": "stream",
     "text": [
      "Setup complete! You're ready to start question 0.\n"
     ]
    }
   ],
   "source": [
    "from learntools.core import binder; binder.bind(globals())\n",
    "from learntools.python.ex1 import *\n",
    "print(\"Setup complete! You're ready to start question 0.\")"
   ]
  },
  {
   "cell_type": "markdown",
   "id": "eead27be",
   "metadata": {
    "papermill": {
     "duration": 0.005164,
     "end_time": "2024-01-11T06:47:17.700798",
     "exception": false,
     "start_time": "2024-01-11T06:47:17.695634",
     "status": "completed"
    },
    "tags": []
   },
   "source": [
    "# 0.\n",
    "\n",
    "*This is a silly question intended as an introduction to the format we use for hands-on exercises throughout all Kaggle courses.*\n",
    "\n",
    "**What is your favorite color? **\n",
    "\n",
    "To complete this question, create a variable called `color` in the cell below with an appropriate value. The function call `q0.check()` (which we've already provided in the cell below) will check your answer."
   ]
  },
  {
   "cell_type": "code",
   "execution_count": 3,
   "id": "3b510f68",
   "metadata": {
    "execution": {
     "iopub.execute_input": "2024-01-11T06:47:17.712940Z",
     "iopub.status.busy": "2024-01-11T06:47:17.712229Z",
     "iopub.status.idle": "2024-01-11T06:47:17.720513Z",
     "shell.execute_reply": "2024-01-11T06:47:17.719998Z"
    },
    "papermill": {
     "duration": 0.015754,
     "end_time": "2024-01-11T06:47:17.721883",
     "exception": false,
     "start_time": "2024-01-11T06:47:17.706129",
     "status": "completed"
    },
    "tags": []
   },
   "outputs": [
    {
     "name": "stdout",
     "output_type": "stream",
     "text": [
      "blue\n"
     ]
    },
    {
     "data": {
      "application/javascript": [
       "parent.postMessage({\"jupyterEvent\": \"custom.exercise_interaction\", \"data\": {\"outcomeType\": 1, \"valueTowardsCompletion\": 0.25, \"interactionType\": 1, \"questionType\": 2, \"questionId\": \"0_ExerciseFormatTutorial\", \"learnToolsVersion\": \"0.3.4\", \"failureMessage\": \"\", \"exceptionClass\": \"\", \"trace\": \"\"}}, \"*\")"
      ],
      "text/plain": [
       "<IPython.core.display.Javascript object>"
      ]
     },
     "metadata": {},
     "output_type": "display_data"
    },
    {
     "data": {
      "text/markdown": [
       "<span style=\"color:#33cc33\">Correct:</span> What?! You got it right without needing a hint or anything? Drats. Well hey, you should still continue to the next step to get some practice asking for a hint and checking solutions. (Even though you obviously don't need any help here.)"
      ],
      "text/plain": [
       "Correct: What?! You got it right without needing a hint or anything? Drats. Well hey, you should still continue to the next step to get some practice asking for a hint and checking solutions. (Even though you obviously don't need any help here.)"
      ]
     },
     "metadata": {},
     "output_type": "display_data"
    }
   ],
   "source": [
    "# create a variable called color with an appropriate value on the line below\n",
    "# (Remember, strings in Python must be enclosed in 'single' or \"double\" quotes)\n",
    "____\n",
    "color = \"blue\"\n",
    "print(color)\n",
    "# Check your answer\n",
    "q0.check()"
   ]
  },
  {
   "cell_type": "markdown",
   "id": "aaee9642",
   "metadata": {
    "papermill": {
     "duration": 0.005548,
     "end_time": "2024-01-11T06:47:17.733166",
     "exception": false,
     "start_time": "2024-01-11T06:47:17.727618",
     "status": "completed"
    },
    "tags": []
   },
   "source": [
    "Didn't get the right answer? How do you not even know your own favorite color?!\n",
    "\n",
    "Delete the `#` in the line below to make one of the lines run. You can choose between getting a hint or the full answer by choosing which line to remove the `#` from. \n",
    "\n",
    "Removing the `#` is called uncommenting, because it changes that line from a \"comment\" which Python doesn't run to code, which Python does run."
   ]
  },
  {
   "cell_type": "code",
   "execution_count": 4,
   "id": "abd703e5",
   "metadata": {
    "execution": {
     "iopub.execute_input": "2024-01-11T06:47:17.745794Z",
     "iopub.status.busy": "2024-01-11T06:47:17.745089Z",
     "iopub.status.idle": "2024-01-11T06:47:17.754579Z",
     "shell.execute_reply": "2024-01-11T06:47:17.753861Z"
    },
    "papermill": {
     "duration": 0.017304,
     "end_time": "2024-01-11T06:47:17.756107",
     "exception": false,
     "start_time": "2024-01-11T06:47:17.738803",
     "status": "completed"
    },
    "tags": []
   },
   "outputs": [
    {
     "data": {
      "application/javascript": [
       "parent.postMessage({\"jupyterEvent\": \"custom.exercise_interaction\", \"data\": {\"interactionType\": 2, \"questionType\": 2, \"questionId\": \"0_ExerciseFormatTutorial\", \"learnToolsVersion\": \"0.3.4\", \"valueTowardsCompletion\": 0.0, \"failureMessage\": \"\", \"exceptionClass\": \"\", \"trace\": \"\", \"outcomeType\": 4}}, \"*\")"
      ],
      "text/plain": [
       "<IPython.core.display.Javascript object>"
      ]
     },
     "metadata": {},
     "output_type": "display_data"
    },
    {
     "data": {
      "text/markdown": [
       "<span style=\"color:#3366cc\">Hint:</span> Your favorite color rhymes with *glue*."
      ],
      "text/plain": [
       "Hint: Your favorite color rhymes with *glue*."
      ]
     },
     "metadata": {},
     "output_type": "display_data"
    },
    {
     "data": {
      "application/javascript": [
       "parent.postMessage({\"jupyterEvent\": \"custom.exercise_interaction\", \"data\": {\"interactionType\": 3, \"questionType\": 2, \"questionId\": \"0_ExerciseFormatTutorial\", \"learnToolsVersion\": \"0.3.4\", \"valueTowardsCompletion\": 0.0, \"failureMessage\": \"\", \"exceptionClass\": \"\", \"trace\": \"\", \"outcomeType\": 4}}, \"*\")"
      ],
      "text/plain": [
       "<IPython.core.display.Javascript object>"
      ]
     },
     "metadata": {},
     "output_type": "display_data"
    },
    {
     "data": {
      "text/markdown": [
       "<span style=\"color:#33cc99\">Solution:</span> \n",
       "```python\n",
       "color = \"blue\"\n",
       "```"
      ],
      "text/plain": [
       "Solution: \n",
       "```python\n",
       "color = \"blue\"\n",
       "```"
      ]
     },
     "metadata": {},
     "output_type": "display_data"
    }
   ],
   "source": [
    "q0.hint()\n",
    "q0.solution()"
   ]
  },
  {
   "cell_type": "markdown",
   "id": "12a282c2",
   "metadata": {
    "papermill": {
     "duration": 0.00584,
     "end_time": "2024-01-11T06:47:17.768015",
     "exception": false,
     "start_time": "2024-01-11T06:47:17.762175",
     "status": "completed"
    },
    "tags": []
   },
   "source": [
    "The upcoming questions work the same way. The only thing that will change are the question numbers. For the next question, you'll call `q1.check()`, `q1.hint()`, `q1.solution()`, for question 2, you'll call `q2.check()`, and so on."
   ]
  },
  {
   "cell_type": "markdown",
   "id": "90f2dc21",
   "metadata": {
    "papermill": {
     "duration": 0.005765,
     "end_time": "2024-01-11T06:47:17.779689",
     "exception": false,
     "start_time": "2024-01-11T06:47:17.773924",
     "status": "completed"
    },
    "tags": []
   },
   "source": [
    "<hr/>\n",
    "\n",
    "# 1.\n",
    "\n",
    "Complete the code below. In case it's helpful, here is the table of available arithmetic operations:\n",
    "\n",
    "\n",
    "\n",
    "| Operator     | Name           | Description                                            |\n",
    "|--------------|----------------|--------------------------------------------------------|\n",
    "| ``a + b``    | Addition       | Sum of ``a`` and ``b``                                 |\n",
    "| ``a - b``    | Subtraction    | Difference of ``a`` and ``b``                          |\n",
    "| ``a * b``    | Multiplication | Product of ``a`` and ``b``                             |\n",
    "| ``a / b``    | True division  | Quotient of ``a`` and ``b``                            |\n",
    "| ``a // b``   | Floor division | Quotient of ``a`` and ``b``, removing fractional parts |\n",
    "| ``a % b``    | Modulus        | Integer remainder after division of ``a`` by ``b``     |\n",
    "| ``a ** b``   | Exponentiation | ``a`` raised to the power of ``b``                     |\n",
    "| ``-a``       | Negation       | The negative of ``a``                                  |\n",
    "\n",
    "<span style=\"display:none\"></span>\n"
   ]
  },
  {
   "cell_type": "code",
   "execution_count": 5,
   "id": "e3fac2b7",
   "metadata": {
    "execution": {
     "iopub.execute_input": "2024-01-11T06:47:17.793040Z",
     "iopub.status.busy": "2024-01-11T06:47:17.792755Z",
     "iopub.status.idle": "2024-01-11T06:47:17.799684Z",
     "shell.execute_reply": "2024-01-11T06:47:17.798932Z"
    },
    "papermill": {
     "duration": 0.015112,
     "end_time": "2024-01-11T06:47:17.801169",
     "exception": false,
     "start_time": "2024-01-11T06:47:17.786057",
     "status": "completed"
    },
    "tags": []
   },
   "outputs": [
    {
     "data": {
      "application/javascript": [
       "parent.postMessage({\"jupyterEvent\": \"custom.exercise_interaction\", \"data\": {\"outcomeType\": 1, \"valueTowardsCompletion\": 0.25, \"interactionType\": 1, \"questionType\": 1, \"questionId\": \"1_CircleArea\", \"learnToolsVersion\": \"0.3.4\", \"failureMessage\": \"\", \"exceptionClass\": \"\", \"trace\": \"\"}}, \"*\")"
      ],
      "text/plain": [
       "<IPython.core.display.Javascript object>"
      ]
     },
     "metadata": {},
     "output_type": "display_data"
    },
    {
     "data": {
      "text/markdown": [
       "<span style=\"color:#33cc33\">Correct</span>"
      ],
      "text/plain": [
       "Correct"
      ]
     },
     "metadata": {},
     "output_type": "display_data"
    }
   ],
   "source": [
    "pi = 3.14159 # approximate\n",
    "diameter = 3\n",
    "\n",
    "# Create a variable called 'radius' equal to half the diameter\n",
    "radius = diameter/2\n",
    "____\n",
    "\n",
    "# Create a variable called 'area', using the formula for the area of a circle: pi times the radius squared\n",
    "area = pi*(radius*radius)\n",
    "____\n",
    "\n",
    "# Check your answer\n",
    "q1.check()"
   ]
  },
  {
   "cell_type": "code",
   "execution_count": 6,
   "id": "4d393938",
   "metadata": {
    "execution": {
     "iopub.execute_input": "2024-01-11T06:47:17.814922Z",
     "iopub.status.busy": "2024-01-11T06:47:17.814277Z",
     "iopub.status.idle": "2024-01-11T06:47:17.817210Z",
     "shell.execute_reply": "2024-01-11T06:47:17.816709Z"
    },
    "papermill": {
     "duration": 0.011285,
     "end_time": "2024-01-11T06:47:17.818617",
     "exception": false,
     "start_time": "2024-01-11T06:47:17.807332",
     "status": "completed"
    },
    "tags": []
   },
   "outputs": [],
   "source": [
    "# Uncomment and run the lines below if you need help.\n",
    "#q1.hint()\n",
    "#q1.solution()"
   ]
  },
  {
   "cell_type": "markdown",
   "id": "4b39e085",
   "metadata": {
    "papermill": {
     "duration": 0.005942,
     "end_time": "2024-01-11T06:47:17.830709",
     "exception": false,
     "start_time": "2024-01-11T06:47:17.824767",
     "status": "completed"
    },
    "tags": []
   },
   "source": [
    "<hr/>\n",
    "\n",
    "# 2.\n",
    "\n",
    "Add code to the following cell to swap variables `a` and `b` (so that `a` refers to the object previously referred to by `b` and vice versa)."
   ]
  },
  {
   "cell_type": "code",
   "execution_count": 7,
   "id": "51dd1242",
   "metadata": {
    "execution": {
     "iopub.execute_input": "2024-01-11T06:47:17.844353Z",
     "iopub.status.busy": "2024-01-11T06:47:17.843679Z",
     "iopub.status.idle": "2024-01-11T06:47:17.850715Z",
     "shell.execute_reply": "2024-01-11T06:47:17.850001Z"
    },
    "papermill": {
     "duration": 0.015483,
     "end_time": "2024-01-11T06:47:17.852388",
     "exception": false,
     "start_time": "2024-01-11T06:47:17.836905",
     "status": "completed"
    },
    "tags": []
   },
   "outputs": [
    {
     "data": {
      "application/javascript": [
       "parent.postMessage({\"jupyterEvent\": \"custom.exercise_interaction\", \"data\": {\"outcomeType\": 1, \"valueTowardsCompletion\": 0.25, \"interactionType\": 1, \"questionType\": 2, \"questionId\": \"2_VariableSwap\", \"learnToolsVersion\": \"0.3.4\", \"failureMessage\": \"\", \"exceptionClass\": \"\", \"trace\": \"\"}}, \"*\")"
      ],
      "text/plain": [
       "<IPython.core.display.Javascript object>"
      ]
     },
     "metadata": {},
     "output_type": "display_data"
    },
    {
     "data": {
      "text/markdown": [
       "<span style=\"color:#33cc33\">Correct:</span> \n",
       "\n",
       "The most straightforward solution is to use a third variable to temporarily store one of the old values. e.g.:\n",
       "\n",
       "    tmp = a\n",
       "    a = b\n",
       "    b = tmp\n",
       "\n",
       "If you've read lots of Python code, you might have seen the following trick to swap two variables in one line:\n",
       "\n",
       "    a, b = b, a\n",
       "\n",
       "We'll demystify this bit of Python magic later when we talk about *tuples*."
      ],
      "text/plain": [
       "Correct: \n",
       "\n",
       "The most straightforward solution is to use a third variable to temporarily store one of the old values. e.g.:\n",
       "\n",
       "    tmp = a\n",
       "    a = b\n",
       "    b = tmp\n",
       "\n",
       "If you've read lots of Python code, you might have seen the following trick to swap two variables in one line:\n",
       "\n",
       "    a, b = b, a\n",
       "\n",
       "We'll demystify this bit of Python magic later when we talk about *tuples*."
      ]
     },
     "metadata": {},
     "output_type": "display_data"
    }
   ],
   "source": [
    "########### Setup code - don't touch this part ######################\n",
    "# If you're curious, these are examples of lists. We'll talk about \n",
    "# them in depth a few lessons from now. For now, just know that they're\n",
    "# yet another type of Python object, like int or float.\n",
    "a = [1, 2, 3]\n",
    "b = [3, 2, 1]\n",
    "q2.store_original_ids()\n",
    "######################################################################\n",
    "\n",
    "# Your code goes here. Swap the values to which a and b refer.\n",
    "# If you get stuck, you can always uncomment one or both of the lines in\n",
    "# the next cell for a hint, or to peek at the solution.\n",
    "a,b =b,a\n",
    "######################################################################\n",
    "\n",
    "# Check your answer\n",
    "q2.check()"
   ]
  },
  {
   "cell_type": "code",
   "execution_count": 8,
   "id": "d9e1976d",
   "metadata": {
    "execution": {
     "iopub.execute_input": "2024-01-11T06:47:17.866855Z",
     "iopub.status.busy": "2024-01-11T06:47:17.866633Z",
     "iopub.status.idle": "2024-01-11T06:47:17.869790Z",
     "shell.execute_reply": "2024-01-11T06:47:17.869073Z"
    },
    "papermill": {
     "duration": 0.01206,
     "end_time": "2024-01-11T06:47:17.871399",
     "exception": false,
     "start_time": "2024-01-11T06:47:17.859339",
     "status": "completed"
    },
    "tags": []
   },
   "outputs": [],
   "source": [
    "#q2.hint()"
   ]
  },
  {
   "cell_type": "code",
   "execution_count": 9,
   "id": "5d215b90",
   "metadata": {
    "execution": {
     "iopub.execute_input": "2024-01-11T06:47:17.885073Z",
     "iopub.status.busy": "2024-01-11T06:47:17.884832Z",
     "iopub.status.idle": "2024-01-11T06:47:17.887900Z",
     "shell.execute_reply": "2024-01-11T06:47:17.887189Z"
    },
    "papermill": {
     "duration": 0.01169,
     "end_time": "2024-01-11T06:47:17.889426",
     "exception": false,
     "start_time": "2024-01-11T06:47:17.877736",
     "status": "completed"
    },
    "tags": []
   },
   "outputs": [],
   "source": [
    "#q2.solution()"
   ]
  },
  {
   "cell_type": "markdown",
   "id": "2667d660",
   "metadata": {
    "papermill": {
     "duration": 0.006812,
     "end_time": "2024-01-11T06:47:17.903054",
     "exception": false,
     "start_time": "2024-01-11T06:47:17.896242",
     "status": "completed"
    },
    "tags": []
   },
   "source": [
    "<hr/>\n",
    "\n",
    "# 3a.\n",
    "\n",
    "Add parentheses to the following expression so that it evaluates to 1."
   ]
  },
  {
   "cell_type": "code",
   "execution_count": 10,
   "id": "1232f86f",
   "metadata": {
    "execution": {
     "iopub.execute_input": "2024-01-11T06:47:17.916753Z",
     "iopub.status.busy": "2024-01-11T06:47:17.916520Z",
     "iopub.status.idle": "2024-01-11T06:47:17.921174Z",
     "shell.execute_reply": "2024-01-11T06:47:17.920530Z"
    },
    "papermill": {
     "duration": 0.013244,
     "end_time": "2024-01-11T06:47:17.922637",
     "exception": false,
     "start_time": "2024-01-11T06:47:17.909393",
     "status": "completed"
    },
    "tags": []
   },
   "outputs": [
    {
     "data": {
      "text/plain": [
       "4"
      ]
     },
     "execution_count": 10,
     "metadata": {},
     "output_type": "execute_result"
    }
   ],
   "source": [
    "5 - 3 // 2"
   ]
  },
  {
   "cell_type": "code",
   "execution_count": 11,
   "id": "101dace2",
   "metadata": {
    "execution": {
     "iopub.execute_input": "2024-01-11T06:47:17.936538Z",
     "iopub.status.busy": "2024-01-11T06:47:17.936261Z",
     "iopub.status.idle": "2024-01-11T06:47:17.939716Z",
     "shell.execute_reply": "2024-01-11T06:47:17.938978Z"
    },
    "papermill": {
     "duration": 0.012347,
     "end_time": "2024-01-11T06:47:17.941443",
     "exception": false,
     "start_time": "2024-01-11T06:47:17.929096",
     "status": "completed"
    },
    "tags": []
   },
   "outputs": [],
   "source": [
    "#q3.a.hint()"
   ]
  },
  {
   "cell_type": "code",
   "execution_count": 12,
   "id": "7bb5b770",
   "metadata": {
    "execution": {
     "iopub.execute_input": "2024-01-11T06:47:17.955570Z",
     "iopub.status.busy": "2024-01-11T06:47:17.955027Z",
     "iopub.status.idle": "2024-01-11T06:47:17.961500Z",
     "shell.execute_reply": "2024-01-11T06:47:17.960904Z"
    },
    "papermill": {
     "duration": 0.015116,
     "end_time": "2024-01-11T06:47:17.963049",
     "exception": false,
     "start_time": "2024-01-11T06:47:17.947933",
     "status": "completed"
    },
    "tags": []
   },
   "outputs": [
    {
     "data": {
      "application/javascript": [
       "parent.postMessage({\"jupyterEvent\": \"custom.exercise_interaction\", \"data\": {\"interactionType\": 3, \"questionType\": 4, \"questionId\": \"3.1_ArithmeticParensEasy\", \"learnToolsVersion\": \"0.3.4\", \"valueTowardsCompletion\": 0.0, \"failureMessage\": \"\", \"exceptionClass\": \"\", \"trace\": \"\", \"outcomeType\": 4}}, \"*\")"
      ],
      "text/plain": [
       "<IPython.core.display.Javascript object>"
      ]
     },
     "metadata": {},
     "output_type": "display_data"
    },
    {
     "data": {
      "text/markdown": [
       "<span style=\"color:#33cc99\">Solution:</span> \n",
       "```python\n",
       "(5 - 3) // 2\n",
       "```"
      ],
      "text/plain": [
       "Solution: \n",
       "```python\n",
       "(5 - 3) // 2\n",
       "```"
      ]
     },
     "metadata": {},
     "output_type": "display_data"
    }
   ],
   "source": [
    "# Check your answer (Run this code cell to receive credit!)\n",
    "(5-3)//2\n",
    "q3.a.solution()"
   ]
  },
  {
   "cell_type": "markdown",
   "id": "b04b4930",
   "metadata": {
    "papermill": {
     "duration": 0.006612,
     "end_time": "2024-01-11T06:47:17.976380",
     "exception": false,
     "start_time": "2024-01-11T06:47:17.969768",
     "status": "completed"
    },
    "tags": []
   },
   "source": [
    "# 3b.  <span title=\"A bit spicy\" style=\"color: darkgreen \">🌶️</span>\n",
    "\n",
    "<small>Questions, like this one, marked a spicy pepper are a bit harder.</small>\n",
    "\n",
    "Add parentheses to the following expression so that it evaluates to 0."
   ]
  },
  {
   "cell_type": "code",
   "execution_count": 13,
   "id": "71ffb57b",
   "metadata": {
    "execution": {
     "iopub.execute_input": "2024-01-11T06:47:17.990831Z",
     "iopub.status.busy": "2024-01-11T06:47:17.990288Z",
     "iopub.status.idle": "2024-01-11T06:47:17.994970Z",
     "shell.execute_reply": "2024-01-11T06:47:17.994395Z"
    },
    "papermill": {
     "duration": 0.013523,
     "end_time": "2024-01-11T06:47:17.996536",
     "exception": false,
     "start_time": "2024-01-11T06:47:17.983013",
     "status": "completed"
    },
    "tags": []
   },
   "outputs": [
    {
     "data": {
      "text/plain": [
       "2"
      ]
     },
     "execution_count": 13,
     "metadata": {},
     "output_type": "execute_result"
    }
   ],
   "source": [
    "8 - 3 * 2 - 1 + 1"
   ]
  },
  {
   "cell_type": "code",
   "execution_count": 14,
   "id": "c5f29d8c",
   "metadata": {
    "execution": {
     "iopub.execute_input": "2024-01-11T06:47:18.011301Z",
     "iopub.status.busy": "2024-01-11T06:47:18.010799Z",
     "iopub.status.idle": "2024-01-11T06:47:18.013990Z",
     "shell.execute_reply": "2024-01-11T06:47:18.013463Z"
    },
    "papermill": {
     "duration": 0.012185,
     "end_time": "2024-01-11T06:47:18.015512",
     "exception": false,
     "start_time": "2024-01-11T06:47:18.003327",
     "status": "completed"
    },
    "tags": []
   },
   "outputs": [],
   "source": [
    "#q3.b.hint()"
   ]
  },
  {
   "cell_type": "code",
   "execution_count": 15,
   "id": "74cc4ad0",
   "metadata": {
    "execution": {
     "iopub.execute_input": "2024-01-11T06:47:18.030148Z",
     "iopub.status.busy": "2024-01-11T06:47:18.029751Z",
     "iopub.status.idle": "2024-01-11T06:47:18.035928Z",
     "shell.execute_reply": "2024-01-11T06:47:18.034905Z"
    },
    "papermill": {
     "duration": 0.015534,
     "end_time": "2024-01-11T06:47:18.037761",
     "exception": false,
     "start_time": "2024-01-11T06:47:18.022227",
     "status": "completed"
    },
    "tags": []
   },
   "outputs": [
    {
     "data": {
      "application/javascript": [
       "parent.postMessage({\"jupyterEvent\": \"custom.exercise_interaction\", \"data\": {\"interactionType\": 3, \"questionType\": 4, \"questionId\": \"3.2_ArithmeticParensHard\", \"learnToolsVersion\": \"0.3.4\", \"valueTowardsCompletion\": 0.0, \"failureMessage\": \"\", \"exceptionClass\": \"\", \"trace\": \"\", \"outcomeType\": 4}}, \"*\")"
      ],
      "text/plain": [
       "<IPython.core.display.Javascript object>"
      ]
     },
     "metadata": {},
     "output_type": "display_data"
    },
    {
     "data": {
      "text/markdown": [
       "<span style=\"color:#33cc99\">Solution:</span> `(8 - 3) * (2 - (1 + 1))` is one solution. There may be others."
      ],
      "text/plain": [
       "Solution: `(8 - 3) * (2 - (1 + 1))` is one solution. There may be others."
      ]
     },
     "metadata": {},
     "output_type": "display_data"
    }
   ],
   "source": [
    "# Check your answer (Run this code cell to receive credit!)\n",
    "(8-3)*(2-(1+1))\n",
    "q3.b.solution()"
   ]
  },
  {
   "cell_type": "markdown",
   "id": "712f23c8",
   "metadata": {
    "papermill": {
     "duration": 0.006846,
     "end_time": "2024-01-11T06:47:18.051782",
     "exception": false,
     "start_time": "2024-01-11T06:47:18.044936",
     "status": "completed"
    },
    "tags": []
   },
   "source": [
    "<hr/>\n",
    "\n",
    "# 4. \n",
    "Alice, Bob and Carol have agreed to pool their Halloween candy and split it evenly among themselves.\n",
    "For the sake of their friendship, any candies left over will be smashed. For example, if they collectively\n",
    "bring home 91 candies, they'll take 30 each and smash 1.\n",
    "\n",
    "Write an arithmetic expression below to calculate how many candies they must smash for a given haul."
   ]
  },
  {
   "cell_type": "code",
   "execution_count": 16,
   "id": "a454b354",
   "metadata": {
    "execution": {
     "iopub.execute_input": "2024-01-11T06:47:18.066975Z",
     "iopub.status.busy": "2024-01-11T06:47:18.066605Z",
     "iopub.status.idle": "2024-01-11T06:47:18.073062Z",
     "shell.execute_reply": "2024-01-11T06:47:18.072449Z"
    },
    "papermill": {
     "duration": 0.015713,
     "end_time": "2024-01-11T06:47:18.074548",
     "exception": false,
     "start_time": "2024-01-11T06:47:18.058835",
     "status": "completed"
    },
    "tags": []
   },
   "outputs": [
    {
     "data": {
      "application/javascript": [
       "parent.postMessage({\"jupyterEvent\": \"custom.exercise_interaction\", \"data\": {\"outcomeType\": 1, \"valueTowardsCompletion\": 0.25, \"interactionType\": 1, \"questionType\": 1, \"questionId\": \"4_CandySplitting\", \"learnToolsVersion\": \"0.3.4\", \"failureMessage\": \"\", \"exceptionClass\": \"\", \"trace\": \"\"}}, \"*\")"
      ],
      "text/plain": [
       "<IPython.core.display.Javascript object>"
      ]
     },
     "metadata": {},
     "output_type": "display_data"
    },
    {
     "data": {
      "text/markdown": [
       "<span style=\"color:#33cc33\">Correct</span>"
      ],
      "text/plain": [
       "Correct"
      ]
     },
     "metadata": {},
     "output_type": "display_data"
    }
   ],
   "source": [
    "# Variables representing the number of candies collected by alice, bob, and carol\n",
    "alice_candies = 121\n",
    "bob_candies = 77\n",
    "carol_candies = 109\n",
    "\n",
    "# Your code goes here! Replace the right-hand side of this assignment with an expression\n",
    "# involving alice_candies, bob_candies, and carol_candies\n",
    "to_smash = (alice_candies + bob_candies + carol_candies)%3\n",
    "# Check your answer\n",
    "q4.check()"
   ]
  },
  {
   "cell_type": "code",
   "execution_count": 17,
   "id": "fa3446bc",
   "metadata": {
    "execution": {
     "iopub.execute_input": "2024-01-11T06:47:18.090371Z",
     "iopub.status.busy": "2024-01-11T06:47:18.090011Z",
     "iopub.status.idle": "2024-01-11T06:47:18.092911Z",
     "shell.execute_reply": "2024-01-11T06:47:18.092397Z"
    },
    "papermill": {
     "duration": 0.012476,
     "end_time": "2024-01-11T06:47:18.094417",
     "exception": false,
     "start_time": "2024-01-11T06:47:18.081941",
     "status": "completed"
    },
    "tags": []
   },
   "outputs": [],
   "source": [
    "#q4.hint()\n",
    "#q4.solution()"
   ]
  },
  {
   "cell_type": "markdown",
   "id": "17e14761",
   "metadata": {
    "papermill": {
     "duration": 0.007026,
     "end_time": "2024-01-11T06:47:18.108751",
     "exception": false,
     "start_time": "2024-01-11T06:47:18.101725",
     "status": "completed"
    },
    "tags": []
   },
   "source": [
    "# Keep Going\n",
    "\n",
    "Next up, you'll **[learn to write new functions and understand functions others write](https://www.kaggle.com/colinmorris/functions-and-getting-help)**. This will make you at least 10 times more productive as a Python programmer. "
   ]
  },
  {
   "cell_type": "markdown",
   "id": "54f41e90",
   "metadata": {
    "papermill": {
     "duration": 0.007185,
     "end_time": "2024-01-11T06:47:18.163158",
     "exception": false,
     "start_time": "2024-01-11T06:47:18.155973",
     "status": "completed"
    },
    "tags": []
   },
   "source": [
    "---\n",
    "\n",
    "\n",
    "\n",
    "\n",
    "*Have questions or comments? Visit the [course discussion forum](https://www.kaggle.com/learn/python/discussion) to chat with other learners.*"
   ]
  }
 ],
 "metadata": {
  "kaggle": {
   "accelerator": "none",
   "dataSources": [],
   "isGpuEnabled": false,
   "isInternetEnabled": false,
   "language": "python",
   "sourceType": "notebook"
  },
  "kernelspec": {
   "display_name": "Python 3",
   "language": "python",
   "name": "python3"
  },
  "language_info": {
   "codemirror_mode": {
    "name": "ipython",
    "version": 3
   },
   "file_extension": ".py",
   "mimetype": "text/x-python",
   "name": "python",
   "nbconvert_exporter": "python",
   "pygments_lexer": "ipython3",
   "version": "3.10.12"
  },
  "learntools_metadata": {
   "lesson_index": 0,
   "type": "exercise"
  },
  "papermill": {
   "default_parameters": {},
   "duration": 3.388529,
   "end_time": "2024-01-11T06:47:18.487140",
   "environment_variables": {},
   "exception": null,
   "input_path": "__notebook__.ipynb",
   "output_path": "__notebook__.ipynb",
   "parameters": {},
   "start_time": "2024-01-11T06:47:15.098611",
   "version": "2.4.0"
  }
 },
 "nbformat": 4,
 "nbformat_minor": 5
}
